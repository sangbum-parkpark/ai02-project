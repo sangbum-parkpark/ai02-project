{
  "nbformat": 4,
  "nbformat_minor": 0,
  "metadata": {
    "colab": {
      "name": "AI_02_박상범_Section1+.ipynb",
      "provenance": [],
      "collapsed_sections": [],
      "include_colab_link": true
    },
    "kernelspec": {
      "name": "python3",
      "display_name": "Python 3"
    },
    "language_info": {
      "name": "python"
    }
  },
  "cells": [
    {
      "cell_type": "markdown",
      "metadata": {
        "id": "view-in-github",
        "colab_type": "text"
      },
      "source": [
        "<a href=\"https://colab.research.google.com/github/sangbum-parkpark/ai02-project1/blob/main/AI_02_%EB%B0%95%EC%83%81%EB%B2%94_Section1%2B.ipynb\" target=\"_parent\"><img src=\"https://colab.research.google.com/assets/colab-badge.svg\" alt=\"Open In Colab\"/></a>"
      ]
    },
    {
      "cell_type": "code",
      "metadata": {
        "id": "mRIhxcp1yupF"
      },
      "source": [
        "import pandas as pd\n",
        "import numpy as np"
      ],
      "execution_count": 1,
      "outputs": []
    },
    {
      "cell_type": "code",
      "metadata": {
        "id": "t2Z9JaeDyGi_",
        "colab": {
          "base_uri": "https://localhost:8080/"
        },
        "outputId": "2686cd51-6621-4418-c77f-e8298034a638"
      },
      "source": [
        "from google.colab import drive\n",
        "drive.mount('/content/drive')"
      ],
      "execution_count": 2,
      "outputs": [
        {
          "output_type": "stream",
          "text": [
            "Mounted at /content/drive\n"
          ],
          "name": "stdout"
        }
      ]
    },
    {
      "cell_type": "code",
      "metadata": {
        "id": "wucoUmBnymco"
      },
      "source": [
        "filename = '/content/drive/MyDrive/AI부트캠프/vgames2.csv'\n",
        "df = pd.read_csv(filename)\n",
        "# 불필요하다 판단된 Unnamed, 열을 제거. \n",
        "df = df.drop(['Unnamed: 0'], axis = 1)\n",
        "#df.head()"
      ],
      "execution_count": 3,
      "outputs": []
    },
    {
      "cell_type": "code",
      "metadata": {
        "id": "-5LfFdZz5SoJ"
      },
      "source": [
        "# 판매량에 포함된 문자'M' 제거\n",
        "# 기존에 Sales 데이터의 단위가 'M'이기 때문이다.\n",
        "df[\"NA_Sales\"] = df[\"NA_Sales\"].str.replace(pat=r'M', repl=r'', regex=True)\n",
        "df[\"EU_Sales\"] = df[\"EU_Sales\"].str.replace(pat=r'M', repl=r'', regex=True)\n",
        "df[\"JP_Sales\"] = df[\"JP_Sales\"].str.replace(pat=r'M', repl=r'', regex=True)\n",
        "df[\"Other_Sales\"] = df[\"Other_Sales\"].str.replace(pat=r'M', repl=r'', regex=True)\n",
        "#df.head(11)"
      ],
      "execution_count": 4,
      "outputs": []
    },
    {
      "cell_type": "code",
      "metadata": {
        "id": "XAVN1EEa6xZ4"
      },
      "source": [
        "# 판매량에 포함된 문자'K'를 *0.001로 대체해 단위를 'M'으로 통일했다.\n",
        "df['NA_Sales'] = df['NA_Sales'].apply(lambda x: int(x.split('K')[0])*0.001 if len(x.split('K')) > 1 else x)\n",
        "df['EU_Sales'] = df['EU_Sales'].apply(lambda x: int(x.split('K')[0])*0.001 if len(x.split('K')) > 1 else x)\n",
        "df['JP_Sales'] = df['JP_Sales'].apply(lambda x: int(x.split('K')[0])*0.001 if len(x.split('K')) > 1 else x)\n",
        "df['Other_Sales'] = df['Other_Sales'].apply(lambda x: int(x.split('K')[0])*0.001 if len(x.split('K')) > 1 else x)\n",
        "#df.head(11)"
      ],
      "execution_count": 5,
      "outputs": []
    },
    {
      "cell_type": "code",
      "metadata": {
        "id": "z1Wb4DJUnmz0"
      },
      "source": [
        "# Year 컬럼의 0~20으로 표현되는 연도 데이터들을 2000대로 변환\n",
        "df.loc[(df.Year < 20),'Year'] = df['Year'] + 2000\n",
        "# Year 컬럼의 두자리수로 표현되는 1900년대 연도 데이터들을 1900대로 변환\n",
        "df.loc[(df.Year < 100), 'Year'] = df['Year'] + 1900\n",
        "\n",
        "df.loc[(df.Year == 'float'),'Year'] = 'string'"
      ],
      "execution_count": 6,
      "outputs": []
    },
    {
      "cell_type": "code",
      "metadata": {
        "id": "HhieugKgWpjs",
        "colab": {
          "base_uri": "https://localhost:8080/"
        },
        "outputId": "021d5453-2c1b-482f-ff4a-9d63f324ecaf"
      },
      "source": [
        "# Sales 컬럼들의 데이터타입을 'float'으로 변경했다.\n",
        "df = df.astype({'NA_Sales':'float',\n",
        "                'EU_Sales':'float',\n",
        "                'JP_Sales':'float',\n",
        "                'Other_Sales':'float'})\n",
        "df.dtypes"
      ],
      "execution_count": 7,
      "outputs": [
        {
          "output_type": "execute_result",
          "data": {
            "text/plain": [
              "Name            object\n",
              "Platform        object\n",
              "Year            object\n",
              "Genre           object\n",
              "Publisher       object\n",
              "NA_Sales       float64\n",
              "EU_Sales       float64\n",
              "JP_Sales       float64\n",
              "Other_Sales    float64\n",
              "dtype: object"
            ]
          },
          "metadata": {
            "tags": []
          },
          "execution_count": 7
        }
      ]
    },
    {
      "cell_type": "code",
      "metadata": {
        "id": "1HvV5Xii2Mhm"
      },
      "source": [
        "df['Sales_total'] = df['NA_Sales'] + df['EU_Sales'] + df['JP_Sales'] + df['Other_Sales']\n",
        "#df.head()"
      ],
      "execution_count": 8,
      "outputs": []
    },
    {
      "cell_type": "markdown",
      "metadata": {
        "id": "xGuEYZuCIUOJ"
      },
      "source": [
        "반드시 들어가야 하는 내용\n",
        "1. 지역에 따라서 선호하는 게임 장르가 다를까\n",
        "2. 연도별 게임의 트렌드가 있을까\n",
        "3. 출고량이 높은 게임에 대한 분석 및 시각화 프로세스\n"
      ]
    },
    {
      "cell_type": "markdown",
      "metadata": {
        "id": "UV1Sgb16IftX"
      },
      "source": [
        "**1. 지역에 따라서 선호하는 게임 장르가 다를까**"
      ]
    },
    {
      "cell_type": "code",
      "metadata": {
        "id": "Xi2KbIblTVez"
      },
      "source": [
        "# 지역에 따라서 선호하는 게임 장르가 다를까 에 대해 알아보기 위해서\n",
        "# 지역별 판매량, 장르를 제외한 컬럼들을 drop한다.\n",
        "\n",
        "df10 = df.drop(['Name', 'Platform', 'Year', 'Publisher'], axis = 1)"
      ],
      "execution_count": 9,
      "outputs": []
    },
    {
      "cell_type": "code",
      "metadata": {
        "id": "LCZzLyKmVU0E",
        "colab": {
          "base_uri": "https://localhost:8080/",
          "height": 204
        },
        "outputId": "90e4eed7-5f49-45b3-8fbe-407ed0e2ac9b"
      },
      "source": [
        "# groupby함수를 이용해 장르별 판매량을 알아보았다.\n",
        "\n",
        "group_genre = df10.groupby(df10['Genre'])\n",
        "genre_sales = group_genre.sum()\n",
        "region = genre_sales.T\n",
        "region\n",
        "# 2sampe chi-square test를 통해 지역과 장르 두 변수가 서로 독립인지 검정하려한다."
      ],
      "execution_count": 10,
      "outputs": [
        {
          "output_type": "execute_result",
          "data": {
            "text/html": [
              "<div>\n",
              "<style scoped>\n",
              "    .dataframe tbody tr th:only-of-type {\n",
              "        vertical-align: middle;\n",
              "    }\n",
              "\n",
              "    .dataframe tbody tr th {\n",
              "        vertical-align: top;\n",
              "    }\n",
              "\n",
              "    .dataframe thead th {\n",
              "        text-align: right;\n",
              "    }\n",
              "</style>\n",
              "<table border=\"1\" class=\"dataframe\">\n",
              "  <thead>\n",
              "    <tr style=\"text-align: right;\">\n",
              "      <th>Genre</th>\n",
              "      <th>Action</th>\n",
              "      <th>Adventure</th>\n",
              "      <th>Fighting</th>\n",
              "      <th>Misc</th>\n",
              "      <th>Platform</th>\n",
              "      <th>Puzzle</th>\n",
              "      <th>Racing</th>\n",
              "      <th>Role-Playing</th>\n",
              "      <th>Shooter</th>\n",
              "      <th>Simulation</th>\n",
              "      <th>Sports</th>\n",
              "      <th>Strategy</th>\n",
              "    </tr>\n",
              "  </thead>\n",
              "  <tbody>\n",
              "    <tr>\n",
              "      <th>NA_Sales</th>\n",
              "      <td>874.81</td>\n",
              "      <td>105.66</td>\n",
              "      <td>223.20</td>\n",
              "      <td>408.05</td>\n",
              "      <td>446.44</td>\n",
              "      <td>123.35</td>\n",
              "      <td>357.19</td>\n",
              "      <td>319.54</td>\n",
              "      <td>581.92</td>\n",
              "      <td>182.96</td>\n",
              "      <td>680.52</td>\n",
              "      <td>68.70</td>\n",
              "    </tr>\n",
              "    <tr>\n",
              "      <th>EU_Sales</th>\n",
              "      <td>522.16</td>\n",
              "      <td>64.05</td>\n",
              "      <td>101.22</td>\n",
              "      <td>212.36</td>\n",
              "      <td>201.61</td>\n",
              "      <td>50.73</td>\n",
              "      <td>237.10</td>\n",
              "      <td>183.58</td>\n",
              "      <td>313.05</td>\n",
              "      <td>113.35</td>\n",
              "      <td>376.48</td>\n",
              "      <td>45.32</td>\n",
              "    </tr>\n",
              "    <tr>\n",
              "      <th>JP_Sales</th>\n",
              "      <td>157.90</td>\n",
              "      <td>51.95</td>\n",
              "      <td>87.34</td>\n",
              "      <td>105.27</td>\n",
              "      <td>130.65</td>\n",
              "      <td>56.87</td>\n",
              "      <td>56.40</td>\n",
              "      <td>344.95</td>\n",
              "      <td>38.28</td>\n",
              "      <td>63.70</td>\n",
              "      <td>135.37</td>\n",
              "      <td>49.46</td>\n",
              "    </tr>\n",
              "    <tr>\n",
              "      <th>Other_Sales</th>\n",
              "      <td>186.45</td>\n",
              "      <td>16.81</td>\n",
              "      <td>36.64</td>\n",
              "      <td>74.04</td>\n",
              "      <td>51.53</td>\n",
              "      <td>12.52</td>\n",
              "      <td>77.10</td>\n",
              "      <td>56.96</td>\n",
              "      <td>102.65</td>\n",
              "      <td>31.48</td>\n",
              "      <td>134.67</td>\n",
              "      <td>11.36</td>\n",
              "    </tr>\n",
              "    <tr>\n",
              "      <th>Sales_total</th>\n",
              "      <td>1741.32</td>\n",
              "      <td>238.47</td>\n",
              "      <td>448.40</td>\n",
              "      <td>799.72</td>\n",
              "      <td>830.23</td>\n",
              "      <td>243.47</td>\n",
              "      <td>727.79</td>\n",
              "      <td>905.03</td>\n",
              "      <td>1035.90</td>\n",
              "      <td>391.49</td>\n",
              "      <td>1327.04</td>\n",
              "      <td>174.84</td>\n",
              "    </tr>\n",
              "  </tbody>\n",
              "</table>\n",
              "</div>"
            ],
            "text/plain": [
              "Genre         Action  Adventure  Fighting  ...  Simulation   Sports  Strategy\n",
              "NA_Sales      874.81     105.66    223.20  ...      182.96   680.52     68.70\n",
              "EU_Sales      522.16      64.05    101.22  ...      113.35   376.48     45.32\n",
              "JP_Sales      157.90      51.95     87.34  ...       63.70   135.37     49.46\n",
              "Other_Sales   186.45      16.81     36.64  ...       31.48   134.67     11.36\n",
              "Sales_total  1741.32     238.47    448.40  ...      391.49  1327.04    174.84\n",
              "\n",
              "[5 rows x 12 columns]"
            ]
          },
          "metadata": {
            "tags": []
          },
          "execution_count": 10
        }
      ]
    },
    {
      "cell_type": "markdown",
      "metadata": {
        "id": "Q7LOSdpAfiwp"
      },
      "source": [
        "- H0 = 지역별 판매량과 장르는 관련성이 없다.\n",
        "- H1 = 지역별 판매량과 장르는 관련성이 있다. "
      ]
    },
    {
      "cell_type": "code",
      "metadata": {
        "id": "AnaEUavfgZuY",
        "colab": {
          "base_uri": "https://localhost:8080/"
        },
        "outputId": "41092327-13f7-4f4f-a427-fca5ad31d4a7"
      },
      "source": [
        "from scipy.stats import chi2_contingency\n",
        "chi2_contingency(observed = region)\n",
        "\n",
        "# P-value가 유의수준보다 현저히 낮으므로 H0는 기각, H1이 채택"
      ],
      "execution_count": 11,
      "outputs": [
        {
          "output_type": "execute_result",
          "data": {
            "text/plain": [
              "(696.7959761665388,\n",
              " 2.4821948321842943e-118,\n",
              " 44,\n",
              " array([[ 858.96895075,  117.63393614,  221.18948701,  394.49075948,\n",
              "          409.54091837,  120.10036664,  359.00869034,  446.43871862,\n",
              "          510.99507046,  193.11657509,  654.61038546,   86.24614163],\n",
              "        [ 475.6200157 ,   65.13513033,  122.47491273,  218.43362447,\n",
              "          226.76705352,   66.50081847,  198.78683483,  247.19774815,\n",
              "          282.94326963,  106.93065028,  362.46455886,   47.75538301],\n",
              "        [ 251.09725564,   34.38722495,   64.65899974,  115.31912416,\n",
              "          119.71864709,   35.10822183,  104.94686312,  130.50476034,\n",
              "          149.37613254,   56.45261331,  191.35833857,   25.21181872],\n",
              "        [ 155.6337779 ,   21.31370858,   40.07660052,   71.47649189,\n",
              "           74.20338101,   21.76059306,   65.04761171,   80.88877289,\n",
              "           92.58552738,   34.99016132,  118.6067171 ,   15.62665663],\n",
              "        [1741.32      ,  238.47      ,  448.4       ,  799.72      ,\n",
              "          830.23      ,  243.47      ,  727.79      ,  905.03      ,\n",
              "         1035.9       ,  391.49      , 1327.04      ,  174.84      ]]))"
            ]
          },
          "metadata": {
            "tags": []
          },
          "execution_count": 11
        }
      ]
    },
    {
      "cell_type": "code",
      "metadata": {
        "id": "HoqeZntEAn_f"
      },
      "source": [
        "#region.reset_index().melt(id_vars=[\"index\"])\n",
        "#region = region.reset_index()\n",
        "genre_sales = genre_sales.reset_index()"
      ],
      "execution_count": 12,
      "outputs": []
    },
    {
      "cell_type": "code",
      "metadata": {
        "id": "vpuVTFPKFDnM",
        "colab": {
          "base_uri": "https://localhost:8080/",
          "height": 421
        },
        "outputId": "22bd1337-72be-4907-f49e-a92270859386"
      },
      "source": [
        "genre_sales"
      ],
      "execution_count": 13,
      "outputs": [
        {
          "output_type": "execute_result",
          "data": {
            "text/html": [
              "<div>\n",
              "<style scoped>\n",
              "    .dataframe tbody tr th:only-of-type {\n",
              "        vertical-align: middle;\n",
              "    }\n",
              "\n",
              "    .dataframe tbody tr th {\n",
              "        vertical-align: top;\n",
              "    }\n",
              "\n",
              "    .dataframe thead th {\n",
              "        text-align: right;\n",
              "    }\n",
              "</style>\n",
              "<table border=\"1\" class=\"dataframe\">\n",
              "  <thead>\n",
              "    <tr style=\"text-align: right;\">\n",
              "      <th></th>\n",
              "      <th>Genre</th>\n",
              "      <th>NA_Sales</th>\n",
              "      <th>EU_Sales</th>\n",
              "      <th>JP_Sales</th>\n",
              "      <th>Other_Sales</th>\n",
              "      <th>Sales_total</th>\n",
              "    </tr>\n",
              "  </thead>\n",
              "  <tbody>\n",
              "    <tr>\n",
              "      <th>0</th>\n",
              "      <td>Action</td>\n",
              "      <td>874.81</td>\n",
              "      <td>522.16</td>\n",
              "      <td>157.90</td>\n",
              "      <td>186.45</td>\n",
              "      <td>1741.32</td>\n",
              "    </tr>\n",
              "    <tr>\n",
              "      <th>1</th>\n",
              "      <td>Adventure</td>\n",
              "      <td>105.66</td>\n",
              "      <td>64.05</td>\n",
              "      <td>51.95</td>\n",
              "      <td>16.81</td>\n",
              "      <td>238.47</td>\n",
              "    </tr>\n",
              "    <tr>\n",
              "      <th>2</th>\n",
              "      <td>Fighting</td>\n",
              "      <td>223.20</td>\n",
              "      <td>101.22</td>\n",
              "      <td>87.34</td>\n",
              "      <td>36.64</td>\n",
              "      <td>448.40</td>\n",
              "    </tr>\n",
              "    <tr>\n",
              "      <th>3</th>\n",
              "      <td>Misc</td>\n",
              "      <td>408.05</td>\n",
              "      <td>212.36</td>\n",
              "      <td>105.27</td>\n",
              "      <td>74.04</td>\n",
              "      <td>799.72</td>\n",
              "    </tr>\n",
              "    <tr>\n",
              "      <th>4</th>\n",
              "      <td>Platform</td>\n",
              "      <td>446.44</td>\n",
              "      <td>201.61</td>\n",
              "      <td>130.65</td>\n",
              "      <td>51.53</td>\n",
              "      <td>830.23</td>\n",
              "    </tr>\n",
              "    <tr>\n",
              "      <th>5</th>\n",
              "      <td>Puzzle</td>\n",
              "      <td>123.35</td>\n",
              "      <td>50.73</td>\n",
              "      <td>56.87</td>\n",
              "      <td>12.52</td>\n",
              "      <td>243.47</td>\n",
              "    </tr>\n",
              "    <tr>\n",
              "      <th>6</th>\n",
              "      <td>Racing</td>\n",
              "      <td>357.19</td>\n",
              "      <td>237.10</td>\n",
              "      <td>56.40</td>\n",
              "      <td>77.10</td>\n",
              "      <td>727.79</td>\n",
              "    </tr>\n",
              "    <tr>\n",
              "      <th>7</th>\n",
              "      <td>Role-Playing</td>\n",
              "      <td>319.54</td>\n",
              "      <td>183.58</td>\n",
              "      <td>344.95</td>\n",
              "      <td>56.96</td>\n",
              "      <td>905.03</td>\n",
              "    </tr>\n",
              "    <tr>\n",
              "      <th>8</th>\n",
              "      <td>Shooter</td>\n",
              "      <td>581.92</td>\n",
              "      <td>313.05</td>\n",
              "      <td>38.28</td>\n",
              "      <td>102.65</td>\n",
              "      <td>1035.90</td>\n",
              "    </tr>\n",
              "    <tr>\n",
              "      <th>9</th>\n",
              "      <td>Simulation</td>\n",
              "      <td>182.96</td>\n",
              "      <td>113.35</td>\n",
              "      <td>63.70</td>\n",
              "      <td>31.48</td>\n",
              "      <td>391.49</td>\n",
              "    </tr>\n",
              "    <tr>\n",
              "      <th>10</th>\n",
              "      <td>Sports</td>\n",
              "      <td>680.52</td>\n",
              "      <td>376.48</td>\n",
              "      <td>135.37</td>\n",
              "      <td>134.67</td>\n",
              "      <td>1327.04</td>\n",
              "    </tr>\n",
              "    <tr>\n",
              "      <th>11</th>\n",
              "      <td>Strategy</td>\n",
              "      <td>68.70</td>\n",
              "      <td>45.32</td>\n",
              "      <td>49.46</td>\n",
              "      <td>11.36</td>\n",
              "      <td>174.84</td>\n",
              "    </tr>\n",
              "  </tbody>\n",
              "</table>\n",
              "</div>"
            ],
            "text/plain": [
              "           Genre  NA_Sales  EU_Sales  JP_Sales  Other_Sales  Sales_total\n",
              "0         Action    874.81    522.16    157.90       186.45      1741.32\n",
              "1      Adventure    105.66     64.05     51.95        16.81       238.47\n",
              "2       Fighting    223.20    101.22     87.34        36.64       448.40\n",
              "3           Misc    408.05    212.36    105.27        74.04       799.72\n",
              "4       Platform    446.44    201.61    130.65        51.53       830.23\n",
              "5         Puzzle    123.35     50.73     56.87        12.52       243.47\n",
              "6         Racing    357.19    237.10     56.40        77.10       727.79\n",
              "7   Role-Playing    319.54    183.58    344.95        56.96       905.03\n",
              "8        Shooter    581.92    313.05     38.28       102.65      1035.90\n",
              "9     Simulation    182.96    113.35     63.70        31.48       391.49\n",
              "10        Sports    680.52    376.48    135.37       134.67      1327.04\n",
              "11      Strategy     68.70     45.32     49.46        11.36       174.84"
            ]
          },
          "metadata": {
            "tags": []
          },
          "execution_count": 13
        }
      ]
    },
    {
      "cell_type": "code",
      "metadata": {
        "id": "XEICQmEllE46",
        "colab": {
          "base_uri": "https://localhost:8080/",
          "height": 334
        },
        "outputId": "2598cf20-daaf-4431-dbe9-e174b71fee9b"
      },
      "source": [
        "# 지역별 판매량과 장르는 관련성이 있다는 가설을 전제로\n",
        "# 지역별로 장르별 판매량을 시각화한다.\n",
        "# 각 지역에서 장르별 판매량의 비율을 확인하기 위한 과정이기 때문에 한 차트에 표현하지 않았으며, Y축의 단위를 통일하지 않았다.\n",
        "import seaborn as sns\n",
        "from matplotlib import pyplot as plt\n",
        "fig, axes = plt.subplots(1, 2, sharex=True, figsize=(25,5))\n",
        "\n",
        "sns.barplot(ax = axes[0], x = \"Genre\", y = \"NA_Sales\", data = genre_sales)\n",
        "sns.barplot(ax = axes[1], x = \"Genre\", y = \"EU_Sales\", data = genre_sales);"
      ],
      "execution_count": 14,
      "outputs": [
        {
          "output_type": "display_data",
          "data": {
            "image/png": "[encoded data removed]",
            "text/plain": [
              "<Figure size 1800x360 with 2 Axes>"
            ]
          },
          "metadata": {
            "tags": [],
            "needs_background": "light"
          }
        }
      ]
    },
    {
      "cell_type": "code",
      "metadata": {
        "colab": {
          "base_uri": "https://localhost:8080/",
          "height": 334
        },
        "id": "po7cSf2YyQza",
        "outputId": "32b4a97a-3f50-4bb3-fe60-ce55c9315365"
      },
      "source": [
        "fig, axes = plt.subplots(1, 2, sharex=True, figsize=(25, 5))\n",
        "\n",
        "sns.barplot(ax = axes[0], x = \"Genre\", y = \"JP_Sales\", data = genre_sales)\n",
        "sns.barplot(ax = axes[1], x = \"Genre\", y = \"Other_Sales\", data = genre_sales);"
      ],
      "execution_count": 15,
      "outputs": [
        {
          "output_type": "display_data",
          "data": {
            "image/png": "[encoded data removed]",
            "text/plain": [
              "<Figure size 1800x360 with 2 Axes>"
            ]
          },
          "metadata": {
            "tags": [],
            "needs_background": "light"
          }
        }
      ]
    },
    {
      "cell_type": "markdown",
      "metadata": {
        "id": "ortb3yxkHBNp"
      },
      "source": [
        "- 북미, 유럽, 기타 지역 판매량에서 Action 장르가 두드러지게 나타나는 반면\n",
        "\n",
        "- 일본 지역 판매량에서는 다른 지역들보다 Action 장르가 상대적으로 약하고,  Role-Playing 장르가 두드러진다."
      ]
    },
    {
      "cell_type": "markdown",
      "metadata": {
        "id": "Xn36bKi2II2v"
      },
      "source": [
        "**2. 연도별 게임의 트렌드**\n",
        "\n",
        "\n",
        "0000년도에 출시된 게임들은 어떤 장르, 어떤 플랫폼이 많았는가를 물어보는 것일까?\n",
        "\n"
      ]
    },
    {
      "cell_type": "code",
      "metadata": {
        "id": "3hsUtZl0_D8K"
      },
      "source": [
        "# Sales 값이 온전하다면 Year 데이터에 결측치가 있어도 활용가능하다\n",
        "# 그러나 판매량에 결측치가 있다면 해당 데이터는 활용하는데 의미가 없다.\n",
        "# 우리는 전체 시장의 판매량을 기준으로 게임을 설계하는 것이기 때문에\n",
        "# 연도별 게임의 트렌드가 있는지 알아보기 위한 데이터는\n",
        "# 전체 지역 판매량의 총계를 이용한다.\n",
        "\n",
        "# 그리고 1번 문항에서 우리는 일본 시장의 장르 선호도가 다른 지역들과는 차이가 있다는 것을 알았다.\n",
        "# 따라서 일본 시장의 게임 트렌드에 대해서도 따로 알아본다."
      ],
      "execution_count": 16,
      "outputs": []
    },
    {
      "cell_type": "code",
      "metadata": {
        "id": "X3vG8dC6qkhE"
      },
      "source": [
        "# 연도별 게임산업 전체 판매량\n",
        "\n",
        "#df['Sales_total'].groupby(df['Year']).sum()\n",
        "\n",
        "# 규모가 급격히 확대된 1996년부터의 데이터부터 활용한다.\n",
        "# 1996년 이전의 데이터는 상대적으로 긴 기간동안 \n",
        "# 누적된 데이터 임에도 불구하고 낮은 판매량 수치를 보이기 때문이다.\n",
        "# 추가적으로 2018, 2019년의 데이터가 존재하지 않는다는 것을 알 수 있다."
      ],
      "execution_count": 17,
      "outputs": []
    },
    {
      "cell_type": "code",
      "metadata": {
        "id": "TdDOnBAqidyr"
      },
      "source": [
        "df = df.astype({'Year':'float'})"
      ],
      "execution_count": 18,
      "outputs": []
    },
    {
      "cell_type": "code",
      "metadata": {
        "id": "xzz-tSDrjg7W"
      },
      "source": [
        "df_after1995 = df.loc[df.Year > 1995]"
      ],
      "execution_count": 19,
      "outputs": []
    },
    {
      "cell_type": "code",
      "metadata": {
        "id": "10IZeZvzdVi5"
      },
      "source": [
        "# 연도별 \n",
        "#df_after1995['Sales_total'].groupby(df_after1995['Genre']).size()"
      ],
      "execution_count": 20,
      "outputs": []
    },
    {
      "cell_type": "code",
      "metadata": {
        "id": "IgS_RuEjr3qt"
      },
      "source": [
        "# 연도별 Platform, Genre, Sales_total 데이터 정리...\n",
        "# 반목문을 이용해서 정리할 수 있다면 정말 좋은텐데...\n",
        "\n",
        "df_1996 = df.loc[(df.Year == 1996)]\n",
        "df_1996 = df_1996[['Platform', 'Genre', 'Sales_total']]\n",
        "#\n",
        "df_1997 = df.loc[(df.Year == 1997)]\n",
        "df_1997 = df_1997[['Platform', 'Genre', 'Sales_total']]\n",
        "#\n",
        "df_1998 = df.loc[(df.Year == 1998)]\n",
        "df_1998 = df_1998[['Platform', 'Genre', 'Sales_total']]\n",
        "#\n",
        "df_1999 = df.loc[(df.Year == 1999)]\n",
        "df_1999 = df_1999[['Platform', 'Genre', 'Sales_total']]\n",
        "#\n",
        "df_2000 = df.loc[(df.Year == 2000)]\n",
        "df_2000 = df_2000[['Platform', 'Genre', 'Sales_total']]\n",
        "#\n",
        "df_2001 = df.loc[(df.Year == 2001)]\n",
        "df_2001 = df_2001[['Platform', 'Genre', 'Sales_total']]\n",
        "#\n",
        "df_2002 = df.loc[(df.Year == 2002)]\n",
        "df_2002 = df_2002[['Platform', 'Genre', 'Sales_total']]\n",
        "#\n",
        "df_2003 = df.loc[(df.Year == 2003)]\n",
        "df_2003 = df_2003[['Platform', 'Genre', 'Sales_total']]\n",
        "#\n",
        "df_2004 = df.loc[(df.Year == 2004)]\n",
        "df_2004 = df_2004[['Platform', 'Genre', 'Sales_total']]\n",
        "#\n",
        "df_2005 = df.loc[(df.Year == 2005)]\n",
        "df_2005 = df_2005[['Platform', 'Genre', 'Sales_total']]\n",
        "#\n",
        "df_2006 = df.loc[(df.Year == 2006)]\n",
        "df_2006 = df_2006[['Platform', 'Genre', 'Sales_total']]\n",
        "#\n",
        "df_2007 = df.loc[(df.Year == 2007)]\n",
        "df_2007 = df_2007[['Platform', 'Genre', 'Sales_total']]\n",
        "#\n",
        "df_2008 = df.loc[(df.Year == 2008)]\n",
        "df_2008 = df_2008[['Platform', 'Genre', 'Sales_total']]\n",
        "#\n",
        "df_2009 = df.loc[(df.Year == 2009)]\n",
        "df_2009 = df_2008[['Platform', 'Genre', 'Sales_total']]\n",
        "#\n",
        "df_2010 = df.loc[(df.Year == 2010)]\n",
        "df_2010 = df_2010[['Platform', 'Genre', 'Sales_total']]\n",
        "#\n",
        "df_2011 = df.loc[(df.Year == 2011)]\n",
        "df_2011 = df_2011[['Platform', 'Genre', 'Sales_total']]\n",
        "#\n",
        "df_2012 = df.loc[(df.Year == 2012)]\n",
        "df_2012 = df_2012[['Platform', 'Genre', 'Sales_total']]\n",
        "#\n",
        "df_2013 = df.loc[(df.Year == 2013)]\n",
        "df_2013 = df_2013[['Platform', 'Genre', 'Sales_total']]\n",
        "#\n",
        "df_2014 = df.loc[(df.Year == 2014)]\n",
        "df_2014 = df_2014[['Platform', 'Genre', 'Sales_total']]\n",
        "#\n",
        "df_2015 = df.loc[(df.Year == 2015)]\n",
        "df_2015 = df_2015[['Platform', 'Genre', 'Sales_total']]\n",
        "#\n",
        "df_2016 = df.loc[(df.Year == 2016)]\n",
        "df_2016 = df_2016[['Platform', 'Genre', 'Sales_total']]\n",
        "#\n",
        "df_2017 = df.loc[(df.Year == 2017)]\n",
        "df_2017 = df_2017[['Platform', 'Genre', 'Sales_total']]\n",
        "#\n",
        "df_2018 = df.loc[(df.Year == 2018)]\n",
        "df_2018 = df_2018[['Platform', 'Genre', 'Sales_total']]\n",
        "#\n",
        "df_2019 = df.loc[(df.Year == 2019)]\n",
        "df_2019 = df_2019[['Platform', 'Genre', 'Sales_total']]\n",
        "#\n",
        "df_2020 = df.loc[(df.Year == 2020)]\n",
        "df_2020 = df_2020[['Platform', 'Genre', 'Sales_total']]\n",
        "#"
      ],
      "execution_count": 21,
      "outputs": []
    },
    {
      "cell_type": "code",
      "metadata": {
        "id": "bTmxe4abWIwq",
        "colab": {
          "base_uri": "https://localhost:8080/",
          "height": 328
        },
        "outputId": "cc7d533c-2e9b-4cb9-820f-30098962c7a5"
      },
      "source": [
        "grouped = df_1996['Sales_total'].groupby(df_1996['Platform'])\n",
        "pd.DataFrame(grouped.size())"
      ],
      "execution_count": 22,
      "outputs": [
        {
          "output_type": "execute_result",
          "data": {
            "text/html": [
              "<div>\n",
              "<style scoped>\n",
              "    .dataframe tbody tr th:only-of-type {\n",
              "        vertical-align: middle;\n",
              "    }\n",
              "\n",
              "    .dataframe tbody tr th {\n",
              "        vertical-align: top;\n",
              "    }\n",
              "\n",
              "    .dataframe thead th {\n",
              "        text-align: right;\n",
              "    }\n",
              "</style>\n",
              "<table border=\"1\" class=\"dataframe\">\n",
              "  <thead>\n",
              "    <tr style=\"text-align: right;\">\n",
              "      <th></th>\n",
              "      <th>Sales_total</th>\n",
              "    </tr>\n",
              "    <tr>\n",
              "      <th>Platform</th>\n",
              "      <th></th>\n",
              "    </tr>\n",
              "  </thead>\n",
              "  <tbody>\n",
              "    <tr>\n",
              "      <th>GB</th>\n",
              "      <td>6</td>\n",
              "    </tr>\n",
              "    <tr>\n",
              "      <th>N64</th>\n",
              "      <td>18</td>\n",
              "    </tr>\n",
              "    <tr>\n",
              "      <th>NG</th>\n",
              "      <td>2</td>\n",
              "    </tr>\n",
              "    <tr>\n",
              "      <th>PC</th>\n",
              "      <td>4</td>\n",
              "    </tr>\n",
              "    <tr>\n",
              "      <th>PCFX</th>\n",
              "      <td>1</td>\n",
              "    </tr>\n",
              "    <tr>\n",
              "      <th>PS</th>\n",
              "      <td>164</td>\n",
              "    </tr>\n",
              "    <tr>\n",
              "      <th>SAT</th>\n",
              "      <td>38</td>\n",
              "    </tr>\n",
              "    <tr>\n",
              "      <th>SNES</th>\n",
              "      <td>30</td>\n",
              "    </tr>\n",
              "  </tbody>\n",
              "</table>\n",
              "</div>"
            ],
            "text/plain": [
              "          Sales_total\n",
              "Platform             \n",
              "GB                  6\n",
              "N64                18\n",
              "NG                  2\n",
              "PC                  4\n",
              "PCFX                1\n",
              "PS                164\n",
              "SAT                38\n",
              "SNES               30"
            ]
          },
          "metadata": {
            "tags": []
          },
          "execution_count": 22
        }
      ]
    },
    {
      "cell_type": "code",
      "metadata": {
        "id": "nFnnm4Rcsmq8"
      },
      "source": [
        "### platform_popular_0000 = 해당년도에 어떤 플랫폼을 기반으로한 게임이 많이 출시되었는지.\n",
        "### platform_0000 = 해당년도에 발매된 게임들 중 어떤 플랫폼을 기반으로 한 게임들이 누적 판매량이 높은지.\n",
        "### Top3_platform_0000 = 해당년도에 발매된 게임들 중 누적 판매량이 높은 플랫폼 상위 3종류 \n",
        "\n",
        "### genre_popular_0000  = 해당년도에 어떤 장르의 게임이 많이 출시되었는지.\n",
        "### genre_0000 = 해당년도에 발매된 게임들 중 어떤 장르의 게임들이 누적 판매량이 높은지.\n",
        "### Top3_Genre_0000 = 해당년도에 발매된 게임들 중 누적 판매량이 높은 장르 상위 3종류\n",
        "\n",
        "### 1996년\n",
        "grouped = df_1996['Sales_total'].groupby(df_1996['Platform'])\n",
        "platform_popular_1996 = pd.DataFrame(grouped.size())\n",
        "platform_popular_1996 = platform_popular_1996.reset_index()\n",
        "platform_popular_1996 = platform_popular_1996.sort_values(by='Sales_total' ,ascending=False)\n",
        "platform_1996 = pd.DataFrame(grouped.sum())\n",
        "platform_1996 = platform_1996.reset_index()\n",
        "platform_1996 = platform_1996.sort_values(by='Sales_total' ,ascending=False)\n",
        "Top3_platform_1996 = platform_1996.head(3)['Platform']\n",
        "\n",
        "grouped_genre = df_1996['Sales_total'].groupby(df_1996['Genre'])\n",
        "genre_popular_1996 = pd.DataFrame(group_genre.size())\n",
        "genre_popular_1996 = genre_popular_1996.reset_index()\n",
        "genre_popular_1996 = genre_popular_1996.sort_values(by=0, ascending=False)\n",
        "genre_1996 = pd.DataFrame(grouped_genre.sum())\n",
        "genre_1996 = genre_1996.reset_index()\n",
        "genre_1996 = genre_1996.sort_values(by='Sales_total' ,ascending=False)\n",
        "Top3_genre_1996 = genre_1996.head(3)['Genre']\n",
        "\n",
        "### 1997년\n",
        "grouped = df_1997['Sales_total'].groupby(df_1997['Platform'])\n",
        "platform_popular_1997 = pd.DataFrame(grouped.size())\n",
        "platform_popular_1997 = platform_popular_1997.reset_index()\n",
        "platform_popular_1997 = platform_popular_1997.sort_values(by='Sales_total' ,ascending=False)\n",
        "platform_1997 = pd.DataFrame(grouped.sum())\n",
        "platform_1997 = platform_1997.reset_index()\n",
        "platform_1997 = platform_1997.sort_values(by='Sales_total' ,ascending=False)\n",
        "Top3_platform_1997 = platform_1997.head(3)['Platform']\n",
        "\n",
        "grouped_genre = df_1997['Sales_total'].groupby(df_1997['Genre'])\n",
        "genre_popular_1997 = pd.DataFrame(group_genre.size())\n",
        "genre_popular_1997 = genre_popular_1997.reset_index()\n",
        "genre_popular_1997 = genre_popular_1997.sort_values(by=0, ascending=False)\n",
        "genre_1997 = pd.DataFrame(grouped_genre.sum())\n",
        "genre_1997 = genre_1997.reset_index()\n",
        "genre_1997 = genre_1997.sort_values(by='Sales_total' ,ascending=False)\n",
        "Top3_genre_1997 = genre_1997.head(3)['Genre']\n",
        "\n",
        "### 1998년\n",
        "grouped = df_1998['Sales_total'].groupby(df_1998['Platform'])\n",
        "platform_popular_1998 = pd.DataFrame(grouped.size())\n",
        "platform_popular_1998 = platform_popular_1998.reset_index()\n",
        "platform_popular_1998 = platform_popular_1998.sort_values(by='Sales_total' ,ascending=False)\n",
        "platform_1998 = pd.DataFrame(grouped.sum())\n",
        "platform_1998 = platform_1998.reset_index()\n",
        "platform_1998 = platform_1998.sort_values(by='Sales_total' ,ascending=False)\n",
        "Top3_platform_1998 = platform_1998.head(3)['Platform']\n",
        "\n",
        "grouped_genre = df_1998['Sales_total'].groupby(df_1998['Genre'])\n",
        "genre_popular_1998 = pd.DataFrame(group_genre.size())\n",
        "genre_popular_1998 = genre_popular_1998.reset_index()\n",
        "genre_popular_1998 = genre_popular_1998.sort_values(by=0, ascending=False)\n",
        "genre_1998 = pd.DataFrame(grouped_genre.sum())\n",
        "genre_1998 = genre_1998.reset_index()\n",
        "genre_1998 = genre_1998.sort_values(by='Sales_total' ,ascending=False)\n",
        "Top3_genre_1998 = genre_1998.head(3)['Genre']\n",
        "\n",
        "### 1999년\n",
        "grouped = df_1999['Sales_total'].groupby(df_1999['Platform'])\n",
        "platform_popular_1999 = pd.DataFrame(grouped.size())\n",
        "platform_popular_1999 = platform_popular_1999.reset_index()\n",
        "platform_popular_1999 = platform_popular_1999.sort_values(by='Sales_total' ,ascending=False)\n",
        "platform_1999 = pd.DataFrame(grouped.sum())\n",
        "platform_1999 = platform_1999.reset_index()\n",
        "platform_1999 = platform_1999.sort_values(by='Sales_total' ,ascending=False)\n",
        "Top3_platform_1999 = platform_1999.head(3)['Platform']\n",
        "\n",
        "grouped_genre = df_1999['Sales_total'].groupby(df_1999['Genre'])\n",
        "genre_popular_1999 = pd.DataFrame(group_genre.size())\n",
        "genre_popular_1999 = genre_popular_1999.reset_index()\n",
        "genre_popular_1999 = genre_popular_1999.sort_values(by=0, ascending=False)\n",
        "genre_1999 = pd.DataFrame(grouped_genre.sum())\n",
        "genre_1999 = genre_1999.reset_index()\n",
        "genre_1999 = genre_1999.sort_values(by='Sales_total' ,ascending=False)\n",
        "Top3_genre_1999 = genre_1999.head(3)['Genre']\n",
        "\n",
        "### 2000년\n",
        "grouped = df_2000['Sales_total'].groupby(df_2000['Platform'])\n",
        "platform_popular_2000 = pd.DataFrame(grouped.size())\n",
        "platform_popular_2000 = platform_popular_2000.reset_index()\n",
        "platform_popular_2000 = platform_popular_2000.sort_values(by='Sales_total' ,ascending=False)\n",
        "platform_2000 = pd.DataFrame(grouped.sum())\n",
        "platform_2000 = platform_2000.reset_index()\n",
        "platform_2000 = platform_2000.sort_values(by='Sales_total' ,ascending=False)\n",
        "Top3_platform_2000 = platform_2000.head(3)['Platform']\n",
        "\n",
        "grouped_genre = df_2000['Sales_total'].groupby(df_2000['Genre'])\n",
        "genre_popular_2000 = pd.DataFrame(group_genre.size())\n",
        "genre_popular_2000 = genre_popular_2000.reset_index()\n",
        "genre_popular_2000 = genre_popular_2000.sort_values(by=0, ascending=False)\n",
        "genre_2000 = pd.DataFrame(grouped_genre.sum())\n",
        "genre_2000 = genre_2000.reset_index()\n",
        "genre_2000 = genre_2000.sort_values(by='Sales_total' ,ascending=False)\n",
        "Top3_genre_2000 = genre_2000.head(3)['Genre']\n",
        "\n",
        "### 2001년\n",
        "grouped = df_2001['Sales_total'].groupby(df_2001['Platform'])\n",
        "platform_popular_2001 = pd.DataFrame(grouped.size())\n",
        "platform_popular_2001 = platform_popular_2001.reset_index()\n",
        "platform_popular_2001 = platform_popular_2001.sort_values(by='Sales_total' ,ascending=False)\n",
        "platform_2001 = pd.DataFrame(grouped.sum())\n",
        "platform_2001 = platform_2001.reset_index()\n",
        "platform_2001 = platform_2001.sort_values(by='Sales_total' ,ascending=False)\n",
        "Top3_platform_2001 = platform_2001.head(3)['Platform']\n",
        "\n",
        "grouped_genre = df_2001['Sales_total'].groupby(df_2001['Genre'])\n",
        "genre_popular_2001 = pd.DataFrame(group_genre.size())\n",
        "genre_popular_2001 = genre_popular_2001.reset_index()\n",
        "genre_popular_2001 = genre_popular_2001.sort_values(by=0, ascending=False)\n",
        "genre_2001 = pd.DataFrame(grouped_genre.sum())\n",
        "genre_2001 = genre_2001.reset_index()\n",
        "genre_2001 = genre_2001.sort_values(by='Sales_total' ,ascending=False)\n",
        "Top3_genre_2001 = genre_2001.head(3)['Genre']\n",
        "\n",
        "### 2002년\n",
        "grouped = df_2002['Sales_total'].groupby(df_2002['Platform'])\n",
        "platform_popular_2002 = pd.DataFrame(grouped.size())\n",
        "platform_popular_2002 = platform_popular_2002.reset_index()\n",
        "platform_popular_2002 = platform_popular_2002.sort_values(by='Sales_total' ,ascending=False)\n",
        "platform_2002 = pd.DataFrame(grouped.sum())\n",
        "platform_2002 = platform_2002.reset_index()\n",
        "platform_2002 = platform_2002.sort_values(by='Sales_total' ,ascending=False)\n",
        "Top3_platform_2002 = platform_2002.head(3)['Platform']\n",
        "\n",
        "grouped_genre = df_2002['Sales_total'].groupby(df_2002['Genre'])\n",
        "genre_popular_2002 = pd.DataFrame(group_genre.size())\n",
        "genre_popular_2002 = genre_popular_2002.reset_index()\n",
        "genre_popular_2002 = genre_popular_2002.sort_values(by=0, ascending=False)\n",
        "genre_2002 = pd.DataFrame(grouped_genre.sum())\n",
        "genre_2002 = genre_2002.reset_index()\n",
        "genre_2002 = genre_2002.sort_values(by='Sales_total' ,ascending=False)\n",
        "Top3_genre_2002 = genre_2002.head(3)['Genre']\n",
        "\n",
        "### 2003년\n",
        "grouped = df_2003['Sales_total'].groupby(df_2003['Platform'])\n",
        "platform_popular_2003 = pd.DataFrame(grouped.size())\n",
        "platform_popular_2003 = platform_popular_2003.reset_index()\n",
        "platform_popular_2003 = platform_popular_2003.sort_values(by='Sales_total' ,ascending=False)\n",
        "platform_2003 = pd.DataFrame(grouped.sum())\n",
        "platform_2003 = platform_2003.reset_index()\n",
        "platform_2003 = platform_2003.sort_values(by='Sales_total' ,ascending=False)\n",
        "Top3_platform_2003 = platform_2003.head(3)['Platform']\n",
        "\n",
        "grouped_genre = df_2003['Sales_total'].groupby(df_2003['Genre'])\n",
        "genre_popular_2003 = pd.DataFrame(group_genre.size())\n",
        "genre_popular_2003 = genre_popular_2003.reset_index()\n",
        "genre_popular_2003 = genre_popular_2003.sort_values(by=0, ascending=False)\n",
        "genre_2003 = pd.DataFrame(grouped_genre.sum())\n",
        "genre_2003 = genre_2003.reset_index()\n",
        "genre_2003 = genre_2003.sort_values(by='Sales_total' ,ascending=False)\n",
        "Top3_genre_2003 = genre_2003.head(3)['Genre']\n",
        "\n",
        "### 2004년\n",
        "grouped = df_2004['Sales_total'].groupby(df_2004['Platform'])\n",
        "platform_popular_2004 = pd.DataFrame(grouped.size())\n",
        "platform_popular_2004 = platform_popular_2004.reset_index()\n",
        "platform_popular_2004 = platform_popular_2004.sort_values(by='Sales_total' ,ascending=False)\n",
        "platform_2004 = pd.DataFrame(grouped.sum())\n",
        "platform_2004 = platform_2004.reset_index()\n",
        "platform_2004 = platform_2004.sort_values(by='Sales_total' ,ascending=False)\n",
        "Top3_platform_2004 = platform_2004.head(3)['Platform']\n",
        "\n",
        "grouped_genre = df_2004['Sales_total'].groupby(df_2004['Genre'])\n",
        "genre_popular_2004 = pd.DataFrame(group_genre.size())\n",
        "genre_popular_2004 = genre_popular_2004.reset_index()\n",
        "genre_popular_2004 = genre_popular_2004.sort_values(by=0, ascending=False)\n",
        "genre_2004 = pd.DataFrame(grouped_genre.sum())\n",
        "genre_2004 = genre_2004.reset_index()\n",
        "genre_2004 = genre_2004.sort_values(by='Sales_total' ,ascending=False)\n",
        "Top3_genre_2004 = genre_2004.head(3)['Genre']\n",
        "\n",
        "### 2005년\n",
        "grouped = df_2005['Sales_total'].groupby(df_2005['Platform'])\n",
        "platform_popular_2005 = pd.DataFrame(grouped.size())\n",
        "platform_popular_2005 = platform_popular_2005.reset_index()\n",
        "platform_popular_2005 = platform_popular_2005.sort_values(by='Sales_total' ,ascending=False)\n",
        "platform_2005 = pd.DataFrame(grouped.sum())\n",
        "platform_2005 = platform_2005.reset_index()\n",
        "platform_2005 = platform_2005.sort_values(by='Sales_total' ,ascending=False)\n",
        "Top3_platform_2005 = platform_1996.head(3)['Platform']\n",
        "\n",
        "grouped_genre = df_2005['Sales_total'].groupby(df_2005['Genre'])\n",
        "genre_popular_2005 = pd.DataFrame(group_genre.size())\n",
        "genre_popular_2005 = genre_popular_2005.reset_index()\n",
        "genre_popular_2005 = genre_popular_2005.sort_values(by=0, ascending=False)\n",
        "genre_2005 = pd.DataFrame(grouped_genre.sum())\n",
        "genre_2005 = genre_2005.reset_index()\n",
        "genre_2005 = genre_2005.sort_values(by='Sales_total' ,ascending=False)\n",
        "Top3_genre_2005 = genre_2005.head(3)['Genre']\n",
        "\n",
        "### 2006년\n",
        "grouped = df_2006['Sales_total'].groupby(df_2006['Platform'])\n",
        "platform_popular_2006 = pd.DataFrame(grouped.size())\n",
        "platform_popular_2006 = platform_popular_2006.reset_index()\n",
        "platform_popular_2006 = platform_popular_2006.sort_values(by='Sales_total' ,ascending=False)\n",
        "platform_2006 = pd.DataFrame(grouped.sum())\n",
        "platform_2006 = platform_2006.reset_index()\n",
        "platform_2006 = platform_2006.sort_values(by='Sales_total' ,ascending=False)\n",
        "Top3_platform_2006 = platform_1996.head(3)['Platform']\n",
        "\n",
        "grouped_genre = df_2006['Sales_total'].groupby(df_2006['Genre'])\n",
        "genre_popular_2006 = pd.DataFrame(group_genre.size())\n",
        "genre_popular_2006 = genre_popular_2006.reset_index()\n",
        "genre_popular_2006 = genre_popular_2006.sort_values(by=0, ascending=False)\n",
        "genre_2006 = pd.DataFrame(grouped_genre.sum())\n",
        "genre_2006 = genre_2006.reset_index()\n",
        "genre_2006 = genre_2006.sort_values(by='Sales_total' ,ascending=False)\n",
        "Top3_genre_2006 = genre_2006.head(3)['Genre']\n",
        "\n",
        "### 2007년\n",
        "grouped = df_2007['Sales_total'].groupby(df_2007['Platform'])\n",
        "platform_popular_2007 = pd.DataFrame(grouped.size())\n",
        "platform_popular_2007 = platform_popular_2007.reset_index()\n",
        "platform_popular_2007 = platform_popular_2007.sort_values(by='Sales_total' ,ascending=False)\n",
        "platform_2007 = pd.DataFrame(grouped.sum())\n",
        "platform_2007 = platform_2007.reset_index()\n",
        "platform_2007 = platform_2007.sort_values(by='Sales_total' ,ascending=False)\n",
        "Top3_platform_2007 = platform_1996.head(3)['Platform']\n",
        "\n",
        "grouped_genre = df_2007['Sales_total'].groupby(df_2007['Genre'])\n",
        "genre_popular_2007 = pd.DataFrame(group_genre.size())\n",
        "genre_popular_2007 = genre_popular_2007.reset_index()\n",
        "genre_popular_2007 = genre_popular_2007.sort_values(by=0, ascending=False)\n",
        "genre_2007 = pd.DataFrame(grouped_genre.sum())\n",
        "genre_2007 = genre_2007.reset_index()\n",
        "genre_2007 = genre_2007.sort_values(by='Sales_total' ,ascending=False)\n",
        "Top3_genre_2007 = genre_2007.head(3)['Genre']\n",
        "\n",
        "### 2008년\n",
        "grouped = df_2008['Sales_total'].groupby(df_2008['Platform'])\n",
        "platform_popular_2008 = pd.DataFrame(grouped.size())\n",
        "platform_popular_2008 = platform_popular_2008.reset_index()\n",
        "platform_popular_2008 = platform_popular_2008.sort_values(by='Sales_total' ,ascending=False)\n",
        "platform_2008 = pd.DataFrame(grouped.sum())\n",
        "platform_2008 = platform_2008.reset_index()\n",
        "platform_2008 = platform_2008.sort_values(by='Sales_total' ,ascending=False)\n",
        "Top3_platform_2008 = platform_1996.head(3)['Platform']\n",
        "\n",
        "grouped_genre = df_2008['Sales_total'].groupby(df_2008['Genre'])\n",
        "genre_popular_2008 = pd.DataFrame(group_genre.size())\n",
        "genre_popular_2008 = genre_popular_2008.reset_index()\n",
        "genre_popular_2008 = genre_popular_2008.sort_values(by=0, ascending=False)\n",
        "genre_2008 = pd.DataFrame(grouped_genre.sum())\n",
        "genre_2008 = genre_2008.reset_index()\n",
        "genre_2008 = genre_2008.sort_values(by='Sales_total' ,ascending=False)\n",
        "Top3_genre_2008 = genre_2008.head(3)['Genre']\n",
        "\n",
        "### 2009년\n",
        "grouped = df_2009['Sales_total'].groupby(df_2009['Platform'])\n",
        "platform_popular_2009 = pd.DataFrame(grouped.size())\n",
        "platform_popular_2009 = platform_popular_2009.reset_index()\n",
        "platform_popular_2009 = platform_popular_2009.sort_values(by='Sales_total' ,ascending=False)\n",
        "platform_2009 = pd.DataFrame(grouped.sum())\n",
        "platform_2009 = platform_2009.reset_index()\n",
        "platform_2009 = platform_2009.sort_values(by='Sales_total' ,ascending=False)\n",
        "Top3_platform_2009 = platform_1996.head(3)['Platform']\n",
        "\n",
        "grouped_genre = df_2009['Sales_total'].groupby(df_2009['Genre'])\n",
        "genre_popular_2009 = pd.DataFrame(group_genre.size())\n",
        "genre_popular_2009 = genre_popular_2009.reset_index()\n",
        "genre_popular_2009 = genre_popular_2009.sort_values(by=0, ascending=False)\n",
        "genre_2009 = pd.DataFrame(grouped_genre.sum())\n",
        "genre_2009 = genre_2009.reset_index()\n",
        "genre_2009 = genre_2009.sort_values(by='Sales_total' ,ascending=False)\n",
        "Top3_genre_2009 = genre_2009.head(3)['Genre']\n",
        "\n",
        "### 2010년\n",
        "grouped = df_2010['Sales_total'].groupby(df_2010['Platform'])\n",
        "platform_popular_2010 = pd.DataFrame(grouped.size())\n",
        "platform_popular_2010 = platform_popular_2010.reset_index()\n",
        "platform_popular_2010 = platform_popular_2010.sort_values(by='Sales_total' ,ascending=False)\n",
        "platform_2010 = pd.DataFrame(grouped.sum())\n",
        "platform_2010 = platform_2010.reset_index()\n",
        "platform_2010 = platform_2010.sort_values(by='Sales_total' ,ascending=False)\n",
        "Top3_platform_2010 = platform_1996.head(3)['Platform']\n",
        "\n",
        "grouped_genre = df_2010['Sales_total'].groupby(df_2010['Genre'])\n",
        "genre_popular_2010 = pd.DataFrame(group_genre.size())\n",
        "genre_popular_2010 = genre_popular_2010.reset_index()\n",
        "genre_popular_2010 = genre_popular_2010.sort_values(by=0, ascending=False)\n",
        "genre_2010 = pd.DataFrame(grouped_genre.sum())\n",
        "genre_2010 = genre_2010.reset_index()\n",
        "genre_2010 = genre_2010.sort_values(by='Sales_total' ,ascending=False)\n",
        "Top3_genre_2010 = genre_2010.head(3)['Genre']\n",
        "\n",
        "### 2011년\n",
        "grouped = df_2011['Sales_total'].groupby(df_2011['Platform'])\n",
        "platform_popular_2011 = pd.DataFrame(grouped.size())\n",
        "platform_popular_2011 = platform_popular_2011.reset_index()\n",
        "platform_popular_2011 = platform_popular_2011.sort_values(by='Sales_total' ,ascending=False)\n",
        "platform_2011 = pd.DataFrame(grouped.sum())\n",
        "platform_2011 = platform_2011.reset_index()\n",
        "platform_2011 = platform_2011.sort_values(by='Sales_total' ,ascending=False)\n",
        "Top3_platform_2011 = platform_1996.head(3)['Platform']\n",
        "\n",
        "grouped_genre = df_2011['Sales_total'].groupby(df_2011['Genre'])\n",
        "genre_popular_2011 = pd.DataFrame(group_genre.size())\n",
        "genre_popular_2011 = genre_popular_2011.reset_index()\n",
        "genre_popular_2011 = genre_popular_2011.sort_values(by=0, ascending=False)\n",
        "genre_2011 = pd.DataFrame(grouped_genre.sum())\n",
        "genre_2011 = genre_2011.reset_index()\n",
        "genre_2011 = genre_2011.sort_values(by='Sales_total' ,ascending=False)\n",
        "Top3_genre_2011 = genre_2011.head(3)['Genre']\n",
        "\n",
        "### 2012년\n",
        "grouped = df_2012['Sales_total'].groupby(df_2012['Platform'])\n",
        "platform_popular_2012 = pd.DataFrame(grouped.size())\n",
        "platform_popular_2012 = platform_popular_2012.reset_index()\n",
        "platform_popular_2012 = platform_popular_2012.sort_values(by='Sales_total' ,ascending=False)\n",
        "platform_2012 = pd.DataFrame(grouped.sum())\n",
        "platform_2012 = platform_2012.reset_index()\n",
        "platform_2012 = platform_2012.sort_values(by='Sales_total' ,ascending=False)\n",
        "Top3_platform_2012 = platform_2012.head(3)['Platform']\n",
        "\n",
        "grouped_genre = df_2012['Sales_total'].groupby(df_2012['Genre'])\n",
        "genre_popular_2012 = pd.DataFrame(group_genre.size())\n",
        "genre_popular_2012 = genre_popular_2012.reset_index()\n",
        "genre_popular_2012 = genre_popular_2012.sort_values(by=0, ascending=False)\n",
        "genre_2012 = pd.DataFrame(grouped_genre.sum())\n",
        "genre_2012 = genre_2012.reset_index()\n",
        "genre_2012 = genre_2012.sort_values(by='Sales_total' ,ascending=False)\n",
        "Top3_genre_2012 = genre_2012.head(3)['Genre']\n",
        "\n",
        "### 2013년\n",
        "grouped = df_2013['Sales_total'].groupby(df_2013['Platform'])\n",
        "platform_popular_2013 = pd.DataFrame(grouped.size())\n",
        "platform_popular_2013 = platform_popular_2013.reset_index()\n",
        "platform_popular_2013 = platform_popular_2013.sort_values(by='Sales_total' ,ascending=False)\n",
        "platform_2013 = pd.DataFrame(grouped.sum())\n",
        "platform_2013 = platform_2013.reset_index()\n",
        "platform_2013 = platform_2013.sort_values(by='Sales_total' ,ascending=False)\n",
        "Top3_platform_2013 = platform_2013.head(3)['Platform']\n",
        "\n",
        "grouped_genre = df_2013['Sales_total'].groupby(df_2013['Genre'])\n",
        "genre_popular_2013 = pd.DataFrame(group_genre.size())\n",
        "genre_popular_2013 = genre_popular_2013.reset_index()\n",
        "genre_popular_2013 = genre_popular_2013.sort_values(by=0, ascending=False)\n",
        "genre_2013 = pd.DataFrame(grouped_genre.sum())\n",
        "genre_2013 = genre_2013.reset_index()\n",
        "genre_2013 = genre_2013.sort_values(by='Sales_total' ,ascending=False)\n",
        "Top3_genre_2013 = genre_2013.head(3)['Genre']\n",
        "\n",
        "### 2014년\n",
        "grouped = df_2014['Sales_total'].groupby(df_2014['Platform'])\n",
        "platform_popular_2014 = pd.DataFrame(grouped.size())\n",
        "platform_popular_2014 = platform_popular_2014.reset_index()\n",
        "platform_popular_2014 = platform_popular_2014.sort_values(by='Sales_total' ,ascending=False)\n",
        "platform_2014 = pd.DataFrame(grouped.sum())\n",
        "platform_2014 = platform_2014.reset_index()\n",
        "platform_2014 = platform_2014.sort_values(by='Sales_total' ,ascending=False)\n",
        "Top3_platform_2014 = platform_2014.head(3)['Platform']\n",
        "\n",
        "grouped_genre = df_2014['Sales_total'].groupby(df_2014['Genre'])\n",
        "genre_popular_2014 = pd.DataFrame(group_genre.size())\n",
        "genre_popular_2014 = genre_popular_2014.reset_index()\n",
        "genre_popular_2014 = genre_popular_2014.sort_values(by=0, ascending=False)\n",
        "genre_2014 = pd.DataFrame(grouped_genre.sum())\n",
        "genre_2014 = genre_2014.reset_index()\n",
        "genre_2014 = genre_2014.sort_values(by='Sales_total' ,ascending=False)\n",
        "Top3_genre_2014 = genre_2014.head(3)['Genre']\n",
        "\n",
        "### 2015년\n",
        "grouped = df_2015['Sales_total'].groupby(df_2015['Platform'])\n",
        "platform_popular_2015 = pd.DataFrame(grouped.size())\n",
        "platform_popular_2015 = platform_popular_2015.reset_index()\n",
        "platform_popular_2015 = platform_popular_2015.sort_values(by='Sales_total' ,ascending=False)\n",
        "platform_2015 = pd.DataFrame(grouped.sum())\n",
        "platform_2015 = platform_2015.reset_index()\n",
        "platform_2015 = platform_2015.sort_values(by='Sales_total' ,ascending=False)\n",
        "Top3_platform_2015 = platform_2015.head(3)['Platform']\n",
        "\n",
        "grouped_genre = df_2015['Sales_total'].groupby(df_2015['Genre'])\n",
        "genre_popular_2015 = pd.DataFrame(group_genre.size())\n",
        "genre_popular_2015 = genre_popular_2015.reset_index()\n",
        "genre_popular_2015 = genre_popular_2015.sort_values(by=0, ascending=False)\n",
        "genre_2015 = pd.DataFrame(grouped_genre.sum())\n",
        "genre_2015 = genre_2015.reset_index()\n",
        "genre_2015 = genre_2015.sort_values(by='Sales_total' ,ascending=False)\n",
        "Top3_genre_2015 = genre_2015.head(3)['Genre']\n",
        "\n",
        "### 2016년\n",
        "grouped = df_2016['Sales_total'].groupby(df_2016['Platform'])\n",
        "platform_popular_2016 = pd.DataFrame(grouped.size())\n",
        "platform_popular_2016 = platform_popular_2016.reset_index()\n",
        "platform_popular_2016 = platform_popular_2016.sort_values(by='Sales_total' ,ascending=False)\n",
        "platform_2016 = pd.DataFrame(grouped.sum())\n",
        "platform_2016 = platform_2016.reset_index()\n",
        "platform_2016 = platform_2016.sort_values(by='Sales_total' ,ascending=False)\n",
        "Top3_platform_2016 = platform_2016.head(3)['Platform']\n",
        "\n",
        "grouped_genre = df_2016['Sales_total'].groupby(df_2016['Genre'])\n",
        "genre_popular_2016 = pd.DataFrame(group_genre.size())\n",
        "genre_popular_2016 = genre_popular_2016.reset_index()\n",
        "genre_popular_2016 = genre_popular_2016.sort_values(by=0, ascending=False)\n",
        "genre_2016 = pd.DataFrame(grouped_genre.sum())\n",
        "genre_2016 = genre_2016.reset_index()\n",
        "genre_2016 = genre_2016.sort_values(by='Sales_total' ,ascending=False)\n",
        "Top3_genre_2016 = genre_2016.head(3)['Genre']\n",
        "\n",
        "### 2017년\n",
        "grouped = df_2017['Sales_total'].groupby(df_2017['Platform'])\n",
        "platform_popular_2017 = pd.DataFrame(grouped.size())\n",
        "platform_popular_2017 = platform_popular_2017.reset_index()\n",
        "platform_popular_2017 = platform_popular_2017.sort_values(by='Sales_total' ,ascending=False)\n",
        "platform_2017 = pd.DataFrame(grouped.sum())\n",
        "platform_2017 = platform_2017.reset_index()\n",
        "platform_2017 = platform_2017.sort_values(by='Sales_total' ,ascending=False)\n",
        "Top3_platform_2017 = platform_2017.head(3)['Platform']\n",
        "\n",
        "grouped_genre = df_2017['Sales_total'].groupby(df_2017['Genre'])\n",
        "genre_popular_2017 = pd.DataFrame(group_genre.size())\n",
        "genre_popular_2017 = genre_popular_2017.reset_index()\n",
        "genre_popular_2017 = genre_popular_2017.sort_values(by=0, ascending=False)\n",
        "genre_2017 = pd.DataFrame(grouped_genre.sum())\n",
        "genre_2017 = genre_2017.reset_index()\n",
        "genre_2017 = genre_2017.sort_values(by='Sales_total' ,ascending=False)\n",
        "Top3_genre_2017 = genre_2017.head(3)['Genre']\n",
        "\n",
        "### 2018년\n",
        "grouped = df_2018['Sales_total'].groupby(df_2018['Platform'])\n",
        "platform_popular_2018 = pd.DataFrame(grouped.size())\n",
        "platform_popular_2018 = platform_popular_2018.reset_index()\n",
        "platform_popular_2018 = platform_popular_2018.sort_values(by='Sales_total' ,ascending=False)\n",
        "platform_2018 = pd.DataFrame(grouped.sum())\n",
        "platform_2018 = platform_2018.reset_index()\n",
        "platform_2018 = platform_2018.sort_values(by='Sales_total' ,ascending=False)\n",
        "Top3_platform_2018 = platform_2018.head(3)['Platform']\n",
        "\n",
        "grouped_genre = df_2018['Sales_total'].groupby(df_2018['Genre'])\n",
        "genre_popular_2018 = pd.DataFrame(group_genre.size())\n",
        "genre_popular_2018 = genre_popular_2018.reset_index()\n",
        "genre_popular_2018 = genre_popular_2018.sort_values(by=0, ascending=False)\n",
        "genre_2018 = pd.DataFrame(grouped_genre.sum())\n",
        "genre_2018 = genre_2018.reset_index()\n",
        "genre_2018 = genre_2018.sort_values(by='Sales_total' ,ascending=False)\n",
        "Top3_genre_2018 = genre_2018.head(3)['Genre']\n",
        "\n",
        "### 2019년\n",
        "grouped = df_2019['Sales_total'].groupby(df_2019['Platform'])\n",
        "platform_popular_2019 = pd.DataFrame(grouped.size())\n",
        "platform_popular_2019 = platform_popular_2019.reset_index()\n",
        "platform_popular_2019 = platform_popular_2019.sort_values(by='Sales_total' ,ascending=False)\n",
        "platform_2019 = pd.DataFrame(grouped.sum())\n",
        "platform_2019 = platform_2019.reset_index()\n",
        "platform_2019 = platform_2019.sort_values(by='Sales_total' ,ascending=False)\n",
        "Top3_platform_2019 = platform_2019.head(3)['Platform']\n",
        "\n",
        "grouped_genre = df_2019['Sales_total'].groupby(df_2019['Genre'])\n",
        "genre_popular_2019 = pd.DataFrame(group_genre.size())\n",
        "genre_popular_2019 = genre_popular_2019.reset_index()\n",
        "genre_popular_2019 = genre_popular_2019.sort_values(by=0, ascending=False)\n",
        "genre_2019 = pd.DataFrame(grouped_genre.sum())\n",
        "genre_2019 = genre_2019.reset_index()\n",
        "genre_2019 = genre_2019.sort_values(by='Sales_total' ,ascending=False)\n",
        "Top3_genre_2019 = genre_2019.head(3)['Genre']\n",
        "\n",
        "### 2020년\n",
        "grouped = df_2020['Sales_total'].groupby(df_2020['Platform'])\n",
        "platform_popular_2020 = pd.DataFrame(grouped.size())\n",
        "platform_popular_2020 = platform_popular_2020.reset_index()\n",
        "platform_popular_2020 = platform_popular_2020.sort_values(by='Sales_total' ,ascending=False)\n",
        "platform_2020 = pd.DataFrame(grouped.sum())\n",
        "platform_2020 = platform_2020.reset_index()\n",
        "platform_2020 = platform_2020.sort_values(by='Sales_total' ,ascending=False)\n",
        "Top3_platform_2020 = platform_2020.head(3)['Platform']\n",
        "\n",
        "grouped_genre = df_2020['Sales_total'].groupby(df_2020['Genre'])\n",
        "genre_popular_2020 = pd.DataFrame(group_genre.size())\n",
        "genre_popular_2020 = genre_popular_2020.reset_index()\n",
        "genre_popular_2020 = genre_popular_2020.sort_values(by=0, ascending=False)\n",
        "genre_2020 = pd.DataFrame(grouped_genre.sum())\n",
        "genre_2020 = genre_2020.reset_index()\n",
        "genre_2020 = genre_2020.sort_values(by='Sales_total' ,ascending=False)\n",
        "Top3_genre_2020 = genre_2020.head(3)['Genre']\n",
        "#"
      ],
      "execution_count": 23,
      "outputs": []
    },
    {
      "cell_type": "code",
      "metadata": {
        "id": "65O_H_lKAliX"
      },
      "source": [
        "platform_1996t = platform_1996.T\n",
        "platform_1996t = platform_1996t.rename(columns = platform_1996t.iloc[0])\n",
        "platform_1996t = platform_1996t.drop(platform_1996t.index[0])\n",
        "platform_1996t.rename(index={'Sales_total':'1996'}, inplace=True)\n",
        "platform_1996t\n",
        "#\n",
        "platform_1997t = platform_1997.T\n",
        "platform_1997t = platform_1997t.rename(columns = platform_1997t.iloc[0])\n",
        "platform_1997t = platform_1997t.drop(platform_1997t.index[0])\n",
        "platform_1997t.rename(index={'Sales_total':'1997'}, inplace=True)\n",
        "platform_1997t\n",
        "#\n",
        "platform_1998t = platform_1998.T\n",
        "platform_1998t = platform_1998t.rename(columns = platform_1998t.iloc[0])\n",
        "platform_1998t = platform_1998t.drop(platform_1998t.index[0])\n",
        "platform_1998t.rename(index={'Sales_total':'1998'}, inplace=True)\n",
        "platform_1998t\n",
        "#\n",
        "platform_1999t = platform_1999.T\n",
        "platform_1999t = platform_1999t.rename(columns = platform_1999t.iloc[0])\n",
        "platform_1999t = platform_1999t.drop(platform_1999t.index[0])\n",
        "platform_1999t.rename(index={'Sales_total':'1999'}, inplace=True)\n",
        "platform_1999t\n",
        "#\n",
        "platform_2000t = platform_2000.T\n",
        "platform_2000t = platform_2000t.rename(columns = platform_2000t.iloc[0])\n",
        "platform_2000t = platform_2000t.drop(platform_2000t.index[0])\n",
        "platform_2000t.rename(index={'Sales_total':'2000'}, inplace=True)\n",
        "platform_2000t\n",
        "#\n",
        "platform_2001t = platform_2001.T\n",
        "platform_2001t = platform_2001t.rename(columns = platform_2001t.iloc[0])\n",
        "platform_2001t = platform_2001t.drop(platform_2001t.index[0])\n",
        "platform_2001t.rename(index={'Sales_total':'2001'}, inplace=True)\n",
        "platform_2001t\n",
        "#\n",
        "platform_2002t = platform_2002.T\n",
        "platform_2002t = platform_2002t.rename(columns = platform_2002t.iloc[0])\n",
        "platform_2002t = platform_2002t.drop(platform_2002t.index[0])\n",
        "platform_2002t.rename(index={'Sales_total':'2002'}, inplace=True)\n",
        "platform_2002t\n",
        "#\n",
        "platform_2003t = platform_2003.T\n",
        "platform_2003t = platform_2003t.rename(columns = platform_2003t.iloc[0])\n",
        "platform_2003t = platform_2003t.drop(platform_2003t.index[0])\n",
        "platform_2003t.rename(index={'Sales_total':'2003'}, inplace=True)\n",
        "platform_2003t\n",
        "#\n",
        "platform_2004t = platform_2004.T\n",
        "platform_2004t = platform_2004t.rename(columns = platform_2004t.iloc[0])\n",
        "platform_2004t = platform_2004t.drop(platform_2004t.index[0])\n",
        "platform_2004t.rename(index={'Sales_total':'2004'}, inplace=True)\n",
        "platform_2004t\n",
        "#\n",
        "platform_2005t = platform_2005.T\n",
        "platform_2005t = platform_2005t.rename(columns = platform_2005t.iloc[0])\n",
        "platform_2005t = platform_2005t.drop(platform_2005t.index[0])\n",
        "platform_2005t.rename(index={'Sales_total':'2005'}, inplace=True)\n",
        "platform_2005t\n",
        "#\n",
        "platform_2006t = platform_2006.T\n",
        "platform_2006t = platform_2006t.rename(columns = platform_2006t.iloc[0])\n",
        "platform_2006t = platform_2006t.drop(platform_2006t.index[0])\n",
        "platform_2006t.rename(index={'Sales_total':'2006'}, inplace=True)\n",
        "platform_2006t\n",
        "#\n",
        "platform_2007t = platform_2007.T\n",
        "platform_2007t = platform_2007t.rename(columns = platform_2007t.iloc[0])\n",
        "platform_2007t = platform_2007t.drop(platform_2007t.index[0])\n",
        "platform_2007t.rename(index={'Sales_total':'2007'}, inplace=True)\n",
        "platform_2007t\n",
        "#\n",
        "platform_2008t = platform_2008.T\n",
        "platform_2008t = platform_2008t.rename(columns = platform_2008t.iloc[0])\n",
        "platform_2008t = platform_2008t.drop(platform_2008t.index[0])\n",
        "platform_2008t.rename(index={'Sales_total':'2008'}, inplace=True)\n",
        "platform_2008t\n",
        "#\n",
        "platform_2009t = platform_2009.T\n",
        "platform_2009t = platform_2009t.rename(columns = platform_2009t.iloc[0])\n",
        "platform_2009t = platform_2009t.drop(platform_2009t.index[0])\n",
        "platform_2009t.rename(index={'Sales_total':'2009'}, inplace=True)\n",
        "platform_2009t\n",
        "#\n",
        "platform_2010t = platform_2010.T\n",
        "platform_2010t = platform_2010t.rename(columns = platform_2010t.iloc[0])\n",
        "platform_2010t = platform_2010t.drop(platform_2010t.index[0])\n",
        "platform_2010t.rename(index={'Sales_total':'2010'}, inplace=True)\n",
        "platform_2010t\n",
        "#\n",
        "platform_2011t = platform_2011.T\n",
        "platform_2011t = platform_2011t.rename(columns = platform_2011t.iloc[0])\n",
        "platform_2011t = platform_2011t.drop(platform_2011t.index[0])\n",
        "platform_2011t.rename(index={'Sales_total':'2011'}, inplace=True)\n",
        "platform_2011t\n",
        "#\n",
        "platform_2012t = platform_2012.T\n",
        "platform_2012t = platform_2012t.rename(columns = platform_2012t.iloc[0])\n",
        "platform_2012t = platform_2012t.drop(platform_2012t.index[0])\n",
        "platform_2012t.rename(index={'Sales_total':'2012'}, inplace=True)\n",
        "platform_2012t\n",
        "#\n",
        "platform_2013t = platform_2013.T\n",
        "platform_2013t = platform_2013t.rename(columns = platform_2013t.iloc[0])\n",
        "platform_2013t = platform_2013t.drop(platform_2013t.index[0])\n",
        "platform_2013t.rename(index={'Sales_total':'2013'}, inplace=True)\n",
        "platform_2013t\n",
        "#\n",
        "platform_2014t = platform_2014.T\n",
        "platform_2014t = platform_2014t.rename(columns = platform_2014t.iloc[0])\n",
        "platform_2014t = platform_2014t.drop(platform_2014t.index[0])\n",
        "platform_2014t.rename(index={'Sales_total':'2014'}, inplace=True)\n",
        "platform_2014t\n",
        "#\n",
        "platform_2015t = platform_2015.T\n",
        "platform_2015t = platform_2015t.rename(columns = platform_2015t.iloc[0])\n",
        "platform_2015t = platform_2015t.drop(platform_2015t.index[0])\n",
        "platform_2015t.rename(index={'Sales_total':'2015'}, inplace=True)\n",
        "platform_2015t\n",
        "#\n",
        "platform_2016t = platform_2016.T\n",
        "platform_2016t = platform_2016t.rename(columns = platform_2016t.iloc[0])\n",
        "platform_2016t = platform_2016t.drop(platform_2016t.index[0])\n",
        "platform_2016t.rename(index={'Sales_total':'2016'}, inplace=True)\n",
        "platform_2016t\n",
        "#\n",
        "platform_2017t = platform_2017.T\n",
        "platform_2017t = platform_2017t.rename(columns = platform_2017t.iloc[0])\n",
        "platform_2017t = platform_2017t.drop(platform_2017t.index[0])\n",
        "platform_2017t.rename(index={'Sales_total':'2017'}, inplace=True)\n",
        "platform_2017t\n",
        "#\n",
        "platform_2018t = platform_2018.T\n",
        "platform_2018t = platform_2018t.rename(columns = platform_2018t.iloc[0])\n",
        "platform_2018t = platform_2018t.drop(platform_2018t.index[0])\n",
        "platform_2018t.rename(index={'Sales_total':'2018'}, inplace=True)\n",
        "platform_2018t\n",
        "#\n",
        "platform_2019t = platform_2019.T\n",
        "platform_2019t = platform_2019t.rename(columns = platform_2019t.iloc[0])\n",
        "platform_2019t = platform_2019t.drop(platform_2019t.index[0])\n",
        "platform_2019t.rename(index={'Sales_total':'2019'}, inplace=True)\n",
        "platform_2019t\n",
        "#\n",
        "platform_2020t = platform_2020.T\n",
        "platform_2020t = platform_2020t.rename(columns = platform_2020t.iloc[0])\n",
        "platform_2020t = platform_2020t.drop(platform_2020t.index[0])\n",
        "platform_2020t.rename(index={'Sales_total':'2020'}, inplace=True)\n",
        "#platform_2020t"
      ],
      "execution_count": 24,
      "outputs": []
    },
    {
      "cell_type": "code",
      "metadata": {
        "id": "sYt2QtThLjkM"
      },
      "source": [
        "genre_1996t = genre_1996.T\n",
        "genre_1996t = genre_1996t.rename(columns = genre_1996t.iloc[0])\n",
        "genre_1996t = genre_1996t.drop(genre_1996t.index[0])\n",
        "genre_1996t.rename(index={'Sales_total':'1996'}, inplace=True)\n",
        "genre_1996t\n",
        "#\n",
        "genre_1997t = genre_1997.T\n",
        "genre_1997t = genre_1997t.rename(columns = genre_1997t.iloc[0])\n",
        "genre_1997t = genre_1997t.drop(genre_1997t.index[0])\n",
        "genre_1997t.rename(index={'Sales_total':'1997'}, inplace=True)\n",
        "genre_1997t\n",
        "#\n",
        "genre_1998t = genre_1998.T\n",
        "genre_1998t = genre_1998t.rename(columns = genre_1998t.iloc[0])\n",
        "genre_1998t = genre_1998t.drop(genre_1998t.index[0])\n",
        "genre_1998t.rename(index={'Sales_total':'1998'}, inplace=True)\n",
        "genre_1998t\n",
        "#\n",
        "genre_1999t = genre_1999.T\n",
        "genre_1999t = genre_1999t.rename(columns = genre_1999t.iloc[0])\n",
        "genre_1999t = genre_1999t.drop(genre_1999t.index[0])\n",
        "genre_1999t.rename(index={'Sales_total':'1999'}, inplace=True)\n",
        "genre_1999t\n",
        "#\n",
        "genre_2000t = genre_2000.T\n",
        "genre_2000t = genre_2000t.rename(columns = genre_2000t.iloc[0])\n",
        "genre_2000t = genre_2000t.drop(genre_2000t.index[0])\n",
        "genre_2000t.rename(index={'Sales_total':'2000'}, inplace=True)\n",
        "genre_2000t\n",
        "#\n",
        "genre_2001t = genre_2001.T\n",
        "genre_2001t = genre_2001t.rename(columns = genre_2001t.iloc[0])\n",
        "genre_2001t = genre_2001t.drop(genre_2001t.index[0])\n",
        "genre_2001t.rename(index={'Sales_total':'2001'}, inplace=True)\n",
        "genre_2001t\n",
        "#\n",
        "genre_2002t = genre_2002.T\n",
        "genre_2002t = genre_2002t.rename(columns = genre_2002t.iloc[0])\n",
        "genre_2002t = genre_2002t.drop(genre_2002t.index[0])\n",
        "genre_2002t.rename(index={'Sales_total':'2002'}, inplace=True)\n",
        "genre_2002t\n",
        "#\n",
        "genre_2003t = genre_2003.T\n",
        "genre_2003t = genre_2003t.rename(columns = genre_2003t.iloc[0])\n",
        "genre_2003t = genre_2003t.drop(genre_2003t.index[0])\n",
        "genre_2003t.rename(index={'Sales_total':'2003'}, inplace=True)\n",
        "genre_2003t\n",
        "#\n",
        "genre_2004t = genre_2004.T\n",
        "genre_2004t = genre_2004t.rename(columns = genre_2004t.iloc[0])\n",
        "genre_2004t = genre_2004t.drop(genre_2004t.index[0])\n",
        "genre_2004t.rename(index={'Sales_total':'2004'}, inplace=True)\n",
        "genre_2004t\n",
        "#\n",
        "genre_2005t = genre_2005.T\n",
        "genre_2005t = genre_2005t.rename(columns = genre_2005t.iloc[0])\n",
        "genre_2005t = genre_2005t.drop(genre_2005t.index[0])\n",
        "genre_2005t.rename(index={'Sales_total':'2005'}, inplace=True)\n",
        "genre_2005t\n",
        "#\n",
        "genre_2006t = genre_2006.T\n",
        "genre_2006t = genre_2006t.rename(columns = genre_2006t.iloc[0])\n",
        "genre_2006t = genre_2006t.drop(genre_2006t.index[0])\n",
        "genre_2006t.rename(index={'Sales_total':'2006'}, inplace=True)\n",
        "genre_2006t\n",
        "#\n",
        "genre_2007t = genre_2007.T\n",
        "genre_2007t = genre_2007t.rename(columns = genre_2007t.iloc[0])\n",
        "genre_2007t = genre_2007t.drop(genre_2007t.index[0])\n",
        "genre_2007t.rename(index={'Sales_total':'2007'}, inplace=True)\n",
        "genre_2007t\n",
        "#\n",
        "genre_2008t = genre_2008.T\n",
        "genre_2008t = genre_2008t.rename(columns = genre_2008t.iloc[0])\n",
        "genre_2008t = genre_2008t.drop(genre_2008t.index[0])\n",
        "genre_2008t.rename(index={'Sales_total':'2008'}, inplace=True)\n",
        "genre_2008t\n",
        "#\n",
        "genre_2009t = genre_2009.T\n",
        "genre_2009t = genre_2009t.rename(columns = genre_2009t.iloc[0])\n",
        "genre_2009t = genre_2009t.drop(genre_2009t.index[0])\n",
        "genre_2009t.rename(index={'Sales_total':'2009'}, inplace=True)\n",
        "genre_2009t\n",
        "#\n",
        "genre_2010t = genre_2010.T\n",
        "genre_2010t = genre_2010t.rename(columns = genre_2010t.iloc[0])\n",
        "genre_2010t = genre_2010t.drop(genre_2010t.index[0])\n",
        "genre_2010t.rename(index={'Sales_total':'2010'}, inplace=True)\n",
        "genre_2010t\n",
        "#\n",
        "genre_2011t = genre_2011.T\n",
        "genre_2011t = genre_2011t.rename(columns = genre_2011t.iloc[0])\n",
        "genre_2011t = genre_2011t.drop(genre_2011t.index[0])\n",
        "genre_2011t.rename(index={'Sales_total':'2011'}, inplace=True)\n",
        "genre_2011t\n",
        "#\n",
        "genre_2012t = genre_2012.T\n",
        "genre_2012t = genre_2012t.rename(columns = genre_2012t.iloc[0])\n",
        "genre_2012t = genre_2012t.drop(genre_2012t.index[0])\n",
        "genre_2012t.rename(index={'Sales_total':'2012'}, inplace=True)\n",
        "genre_2012t\n",
        "#\n",
        "genre_2013t = genre_2013.T\n",
        "genre_2013t = genre_2013t.rename(columns = genre_2013t.iloc[0])\n",
        "genre_2013t = genre_2013t.drop(genre_2013t.index[0])\n",
        "genre_2013t.rename(index={'Sales_total':'2013'}, inplace=True)\n",
        "genre_2013t\n",
        "#\n",
        "genre_2014t = genre_2014.T\n",
        "genre_2014t = genre_2014t.rename(columns = genre_2014t.iloc[0])\n",
        "genre_2014t = genre_2014t.drop(genre_2014t.index[0])\n",
        "genre_2014t.rename(index={'Sales_total':'2014'}, inplace=True)\n",
        "genre_2014t\n",
        "#\n",
        "genre_2015t = genre_2015.T\n",
        "genre_2015t = genre_2015t.rename(columns = genre_2015t.iloc[0])\n",
        "genre_2015t = genre_2015t.drop(genre_2015t.index[0])\n",
        "genre_2015t.rename(index={'Sales_total':'2015'}, inplace=True)\n",
        "genre_2015t\n",
        "#\n",
        "genre_2016t = genre_2016.T\n",
        "genre_2016t = genre_2016t.rename(columns = genre_2016t.iloc[0])\n",
        "genre_2016t = genre_2016t.drop(genre_2016t.index[0])\n",
        "genre_2016t.rename(index={'Sales_total':'2016'}, inplace=True)\n",
        "genre_2016t\n",
        "#\n",
        "genre_2017t = genre_2017.T\n",
        "genre_2017t = genre_2017t.rename(columns = genre_2017t.iloc[0])\n",
        "genre_2017t = genre_2017t.drop(genre_2017t.index[0])\n",
        "genre_2017t.rename(index={'Sales_total':'2017'}, inplace=True)\n",
        "genre_2017t\n",
        "#\n",
        "genre_2018t = genre_2018.T\n",
        "genre_2018t = genre_2018t.rename(columns = genre_2018t.iloc[0])\n",
        "genre_2018t = genre_2018t.drop(genre_2018t.index[0])\n",
        "genre_2018t.rename(index={'Sales_total':'2018'}, inplace=True)\n",
        "genre_2018t\n",
        "#\n",
        "genre_2019t = genre_2019.T\n",
        "genre_2019t = genre_2019t.rename(columns = genre_2019t.iloc[0])\n",
        "genre_2019t = genre_2019t.drop(genre_2019t.index[0])\n",
        "genre_2019t.rename(index={'Sales_total':'2019'}, inplace=True)\n",
        "genre_2019t\n",
        "#\n",
        "genre_2020t = genre_2020.T\n",
        "genre_2020t = genre_2020t.rename(columns = genre_2020t.iloc[0])\n",
        "genre_2020t = genre_2020t.drop(genre_2020t.index[0])\n",
        "genre_2020t.rename(index={'Sales_total':'2020'}, inplace=True)\n",
        "#genre_2020t\n",
        "#"
      ],
      "execution_count": 25,
      "outputs": []
    },
    {
      "cell_type": "code",
      "metadata": {
        "id": "CDwx2ERJDWrx"
      },
      "source": [
        "year_platform = pd.concat([platform_1996t, platform_1997t, platform_1998t, platform_1999t, platform_2000t,\n",
        "                           platform_2001t, platform_2002t, platform_2003t, platform_2004t, platform_2005t,\n",
        "                           platform_2006t, platform_2007t, platform_2008t, platform_2009t, platform_2010t,\n",
        "                           platform_2011t, platform_2012t, platform_2013t, platform_2014t, platform_2015t,\n",
        "                           platform_2016t, platform_2017t, platform_2018t, platform_2019t, platform_2020t], join='outer')\n",
        "\n",
        "year_platform = year_platform.fillna(0)\n",
        "year_platform = year_platform.apply(pd.to_numeric)\n",
        "year_platform = year_platform.astype(float)\n",
        "#year_platform.dtypes"
      ],
      "execution_count": 26,
      "outputs": []
    },
    {
      "cell_type": "code",
      "metadata": {
        "id": "9Tm_I33jPDwM"
      },
      "source": [
        "year_genre = pd.concat([genre_1996t, genre_1997t, genre_1998t, genre_1999t, genre_2000t,\n",
        "                        genre_2001t, genre_2002t, genre_2003t, genre_2004t, genre_2005t,\n",
        "                        genre_2006t, genre_2007t, genre_2008t, genre_2009t, genre_2010t,\n",
        "                        genre_2011t, genre_2012t, genre_2013t, genre_2014t, genre_2015t,\n",
        "                        genre_2016t, genre_2017t, genre_2018t, genre_2019t, genre_2020t], join='outer')\n",
        "\n",
        "year_genre = year_genre.fillna(0)\n",
        "year_genre = year_genre.apply(pd.to_numeric)\n",
        "year_genre = year_genre.astype(float)\n",
        "#year_genre.dtypes"
      ],
      "execution_count": 27,
      "outputs": []
    },
    {
      "cell_type": "code",
      "metadata": {
        "id": "CdXI3Rg9QUEu"
      },
      "source": [
        "#chi2_contingency(observed = year_platform)"
      ],
      "execution_count": 28,
      "outputs": []
    },
    {
      "cell_type": "code",
      "metadata": {
        "id": "k949R4reQZWX"
      },
      "source": [
        "#chi2_contingency(observed = year_genre)"
      ],
      "execution_count": 29,
      "outputs": []
    },
    {
      "cell_type": "code",
      "metadata": {
        "id": "-vO7b0NpGg4C",
        "colab": {
          "base_uri": "https://localhost:8080/",
          "height": 622
        },
        "outputId": "4006a984-cd88-4576-a9f6-6cca544c6ce2"
      },
      "source": [
        "plt.figure(figsize=(10,10))\n",
        "sns.heatmap(data = year_platform, cmap='Blues')\n",
        "plt.title('year_platform', fontsize=10)\n",
        "plt.show();"
      ],
      "execution_count": 30,
      "outputs": [
        {
          "output_type": "display_data",
          "data": {
            "image/png": "[encoded data removed]",
            "text/plain": [
              "<Figure size 720x720 with 2 Axes>"
            ]
          },
          "metadata": {
            "tags": [],
            "needs_background": "light"
          }
        }
      ]
    },
    {
      "cell_type": "code",
      "metadata": {
        "id": "eI-B30wrQGEj",
        "colab": {
          "base_uri": "https://localhost:8080/",
          "height": 656
        },
        "outputId": "55c144f5-6e25-4570-dbda-9d804421e07e"
      },
      "source": [
        "plt.figure(figsize=(10,10))\n",
        "sns.heatmap(data = year_genre, cmap='Reds')\n",
        "plt.title('year_genre', fontsize=10)\n",
        "plt.show();"
      ],
      "execution_count": 31,
      "outputs": [
        {
          "output_type": "display_data",
          "data": {
            "image/png": "[encoded data removed]",
            "text/plain": [
              "<Figure size 720x720 with 2 Axes>"
            ]
          },
          "metadata": {
            "tags": [],
            "needs_background": "light"
          }
        }
      ]
    },
    {
      "cell_type": "code",
      "metadata": {
        "id": "oI0gUgC9r25m",
        "colab": {
          "base_uri": "https://localhost:8080/",
          "height": 350
        },
        "outputId": "1f0a138d-20e4-4245-c6fe-2ebf7ae57f03"
      },
      "source": [
        "fig, axes = plt.subplots(1, 5, sharex=True, figsize=(25,5))\n",
        "\n",
        "sns.barplot(ax = axes[0], x = \"Platform\", y = \"Sales_total\", data = platform_1996)\n",
        "sns.barplot(ax = axes[1], x = \"Platform\", y = \"Sales_total\", data = platform_1997)\n",
        "sns.barplot(ax = axes[2], x = \"Platform\", y = \"Sales_total\", data = platform_1998)\n",
        "sns.barplot(ax = axes[3], x = \"Platform\", y = \"Sales_total\", data = platform_1999)\n",
        "sns.barplot(ax = axes[4], x = \"Platform\", y = \"Sales_total\", data = platform_2000)\n",
        "\n",
        "axes[0].set_title(\"1996\")\n",
        "axes[1].set_title(\"1997\")\n",
        "axes[2].set_title(\"1998\")\n",
        "axes[3].set_title(\"1999\")\n",
        "axes[4].set_title(\"2000\");\n",
        "\n",
        "# 1996, 상위 3개 플랫폼, PS DC GB\n",
        "# 1997, 상위 3개 플랫폼, N64 GB GBA\n",
        "# 1998, 상위 3개 플랫폼, PC GBA GB\n",
        "# 1998, 상위 3개 플랫폼, PC GBA GB\n",
        "# 2000, 상위 3개 플랫폼, PS PS2 N64"
      ],
      "execution_count": 32,
      "outputs": [
        {
          "output_type": "display_data",
          "data": {
            "image/png": "[encoded data removed]",
            "text/plain": [
              "<Figure size 1800x360 with 5 Axes>"
            ]
          },
          "metadata": {
            "tags": [],
            "needs_background": "light"
          }
        }
      ]
    },
    {
      "cell_type": "code",
      "metadata": {
        "id": "eexawkXXXpKx",
        "colab": {
          "base_uri": "https://localhost:8080/",
          "height": 350
        },
        "outputId": "1fba7b48-64ec-488a-cdd4-ae663e05967c"
      },
      "source": [
        "fig, axes = plt.subplots(1, 5, sharex=True, figsize=(25,5))\n",
        "\n",
        "sns.barplot(ax = axes[0], x = \"Platform\", y = \"Sales_total\", data = platform_2001)\n",
        "sns.barplot(ax = axes[1], x = \"Platform\", y = \"Sales_total\", data = platform_2002)\n",
        "sns.barplot(ax = axes[2], x = \"Platform\", y = \"Sales_total\", data = platform_2003)\n",
        "sns.barplot(ax = axes[3], x = \"Platform\", y = \"Sales_total\", data = platform_2004)\n",
        "sns.barplot(ax = axes[4], x = \"Platform\", y = \"Sales_total\", data = platform_2005)\n",
        "axes[0].set_title(\"2001\")\n",
        "axes[1].set_title(\"2002\")\n",
        "axes[2].set_title(\"2003\")\n",
        "axes[3].set_title(\"2004\")\n",
        "axes[4].set_title(\"2005\");\n",
        "\n",
        "\n"
      ],
      "execution_count": 33,
      "outputs": [
        {
          "output_type": "display_data",
          "data": {
            "image/png": "[encoded data removed]",
            "text/plain": [
              "<Figure size 1800x360 with 5 Axes>"
            ]
          },
          "metadata": {
            "tags": [],
            "needs_background": "light"
          }
        }
      ]
    },
    {
      "cell_type": "markdown",
      "metadata": {
        "id": "drziAfND_GVw"
      },
      "source": [
        "**1996년부터 2004년까지는 PS2 플랫폼 게임의 판매량이 상대적으로 매우 높았다.**"
      ]
    },
    {
      "cell_type": "code",
      "metadata": {
        "id": "j-eMb5cZXrKU",
        "colab": {
          "base_uri": "https://localhost:8080/",
          "height": 350
        },
        "outputId": "a312dbe0-00ca-4b8f-df00-33544689276c"
      },
      "source": [
        "fig, axes = plt.subplots(1, 5, sharex=True, figsize=(25,5))\n",
        "\n",
        "sns.barplot(ax = axes[0], x = \"Platform\", y = \"Sales_total\", data = platform_2006)\n",
        "sns.barplot(ax = axes[1], x = \"Platform\", y = \"Sales_total\", data = platform_2007)\n",
        "sns.barplot(ax = axes[2], x = \"Platform\", y = \"Sales_total\", data = platform_2008)\n",
        "sns.barplot(ax = axes[3], x = \"Platform\", y = \"Sales_total\", data = platform_2009)\n",
        "sns.barplot(ax = axes[4], x = \"Platform\", y = \"Sales_total\", data = platform_2010)\n",
        "axes[0].set_title(\"2006\")\n",
        "axes[1].set_title(\"2007\")\n",
        "axes[2].set_title(\"2008\")\n",
        "axes[3].set_title(\"2009\")\n",
        "axes[4].set_title(\"2010\");"
      ],
      "execution_count": 34,
      "outputs": [
        {
          "output_type": "display_data",
          "data": {
            "image/png": "[encoded data removed]",
            "text/plain": [
              "<Figure size 1800x360 with 5 Axes>"
            ]
          },
          "metadata": {
            "tags": [],
            "needs_background": "light"
          }
        }
      ]
    },
    {
      "cell_type": "markdown",
      "metadata": {
        "id": "uFPJxixY_oPD"
      },
      "source": [
        "**2006년부터 XBOX360의 판매량이 PS플랫폼을 제치고 가장 높은 판매량을 기록했다.**\n",
        "\n",
        "\n",
        "**또한 닌텐도Wii, 닌텐도DS 플랫폼의 판매량 역시 점점 높은 비율을 차지함을 볼 수 있다.** "
      ]
    },
    {
      "cell_type": "code",
      "metadata": {
        "id": "8lUQoYvpXsX7",
        "colab": {
          "base_uri": "https://localhost:8080/",
          "height": 350
        },
        "outputId": "fede7a74-c901-4470-94bb-f8b916c83520"
      },
      "source": [
        "fig, axes = plt.subplots(1, 5, sharex=True, figsize=(25,5))\n",
        "\n",
        "sns.barplot(ax = axes[0], x = \"Platform\", y = \"Sales_total\", data = platform_2011)\n",
        "sns.barplot(ax = axes[1], x = \"Platform\", y = \"Sales_total\", data = platform_2012)\n",
        "sns.barplot(ax = axes[2], x = \"Platform\", y = \"Sales_total\", data = platform_2013)\n",
        "sns.barplot(ax = axes[3], x = \"Platform\", y = \"Sales_total\", data = platform_2014)\n",
        "sns.barplot(ax = axes[4], x = \"Platform\", y = \"Sales_total\", data = platform_2015)\n",
        "axes[0].set_title(\"2011\")\n",
        "axes[1].set_title(\"2012\")\n",
        "axes[2].set_title(\"2013\")\n",
        "axes[3].set_title(\"2014\")\n",
        "axes[4].set_title(\"2015\");"
      ],
      "execution_count": 35,
      "outputs": [
        {
          "output_type": "display_data",
          "data": {
            "image/png": "[encoded data removed]",
            "text/plain": [
              "<Figure size 1800x360 with 5 Axes>"
            ]
          },
          "metadata": {
            "tags": [],
            "needs_background": "light"
          }
        }
      ]
    },
    {
      "cell_type": "markdown",
      "metadata": {
        "id": "tM2vkZSvK9e1"
      },
      "source": [
        "**2011년도 부터 PS4 플랫폼 기반의 게임 판매량이 "
      ]
    },
    {
      "cell_type": "markdown",
      "metadata": {
        "id": "TiNQHCV0_Yy3"
      },
      "source": [
        "**"
      ]
    },
    {
      "cell_type": "code",
      "metadata": {
        "id": "iCJaYFPmXs4k",
        "colab": {
          "base_uri": "https://localhost:8080/",
          "height": 334
        },
        "outputId": "f1a340ed-7dfa-4e3e-d933-af5a28295a2c"
      },
      "source": [
        "fig, axes = plt.subplots(1, 4, sharex=True, figsize=(25,5))\n",
        "\n",
        "sns.barplot(ax = axes[0], x = \"Platform\", y = \"Sales_total\", data = platform_2016)\n",
        "sns.barplot(ax = axes[1], x = \"Platform\", y = \"Sales_total\", data = platform_2017)\n",
        "#sns.barplot(ax = axes[2], x = \"Platform\", y = \"Sales_total\", data = platform_2018)\n",
        "#sns.barplot(ax = axes[3], x = \"Platform\", y = \"Sales_total\", data = platform_2019)\n",
        "sns.barplot(ax = axes[2], x = \"Platform\", y = \"Sales_total\", data = platform_2020)\n",
        "#axes[0].set_title(\"2016\")\n",
        "#axes[1].set_title(\"2017\")\n",
        "#axes[2].set_title(\"2018\")\n",
        "#axes[3].set_title(\"2019\")\n",
        "#axes[4].set_title(\"2020\");\n",
        "sns.barplot(ax = axes[3], x = \"Platform\", y = \"Sales_total\", data = platform_2016);\n",
        "\n",
        "# 중복된 2016 시각화 코드는 16,17,20의 데이터만을 이용했을 때 발생하는 오류(?)를 해결하기 위해 추가했다.\n",
        "# 왜 그런 오류가 발생하는지 알아봐야한다."
      ],
      "execution_count": 36,
      "outputs": [
        {
          "output_type": "display_data",
          "data": {
            "image/png": "[encoded data removed]",
            "text/plain": [
              "<Figure size 1800x360 with 4 Axes>"
            ]
          },
          "metadata": {
            "tags": [],
            "needs_background": "light"
          }
        }
      ]
    },
    {
      "cell_type": "code",
      "metadata": {
        "id": "1dW7g1HReQZ4",
        "colab": {
          "base_uri": "https://localhost:8080/",
          "height": 350
        },
        "outputId": "c6ed3ebd-bcf8-45b0-bedf-54d771351df6"
      },
      "source": [
        "fig, axes = plt.subplots(1, 5, sharex=True, figsize=(25,5))\n",
        "\n",
        "sns.barplot(ax = axes[0], x = \"Platform\", y = \"Sales_total\", data = platform_popular_1996)\n",
        "sns.barplot(ax = axes[1], x = \"Platform\", y = \"Sales_total\", data = platform_popular_1997)\n",
        "sns.barplot(ax = axes[2], x = \"Platform\", y = \"Sales_total\", data = platform_popular_1998)\n",
        "sns.barplot(ax = axes[3], x = \"Platform\", y = \"Sales_total\", data = platform_popular_1999)\n",
        "sns.barplot(ax = axes[4], x = \"Platform\", y = \"Sales_total\", data = platform_popular_2000)\n",
        "axes[0].set_title(\"1996\")\n",
        "axes[1].set_title(\"1997\")\n",
        "axes[2].set_title(\"1998\")\n",
        "axes[3].set_title(\"1999\")\n",
        "axes[4].set_title(\"2000\");"
      ],
      "execution_count": 37,
      "outputs": [
        {
          "output_type": "display_data",
          "data": {
            "image/png": "[encoded data removed]",
            "text/plain": [
              "<Figure size 1800x360 with 5 Axes>"
            ]
          },
          "metadata": {
            "tags": [],
            "needs_background": "light"
          }
        }
      ]
    },
    {
      "cell_type": "code",
      "metadata": {
        "id": "BpwHm1GXd5er",
        "colab": {
          "base_uri": "https://localhost:8080/",
          "height": 350
        },
        "outputId": "bda2f12f-a04e-4c81-8f37-c482da6fa53f"
      },
      "source": [
        "fig, axes = plt.subplots(1, 5, sharex=True, figsize=(25,5))\n",
        "\n",
        "sns.barplot(ax = axes[0], x = \"Platform\", y = \"Sales_total\", data = platform_popular_2001)\n",
        "sns.barplot(ax = axes[1], x = \"Platform\", y = \"Sales_total\", data = platform_popular_2002)\n",
        "sns.barplot(ax = axes[2], x = \"Platform\", y = \"Sales_total\", data = platform_popular_2003)\n",
        "sns.barplot(ax = axes[3], x = \"Platform\", y = \"Sales_total\", data = platform_popular_2004)\n",
        "sns.barplot(ax = axes[4], x = \"Platform\", y = \"Sales_total\", data = platform_popular_2005)\n",
        "axes[0].set_title(\"2001\")\n",
        "axes[1].set_title(\"2002\")\n",
        "axes[2].set_title(\"2003\")\n",
        "axes[3].set_title(\"2004\")\n",
        "axes[4].set_title(\"2005\");"
      ],
      "execution_count": 38,
      "outputs": [
        {
          "output_type": "display_data",
          "data": {
            "image/png": "[encoded data removed]",
            "text/plain": [
              "<Figure size 1800x360 with 5 Axes>"
            ]
          },
          "metadata": {
            "tags": [],
            "needs_background": "light"
          }
        }
      ]
    },
    {
      "cell_type": "code",
      "metadata": {
        "id": "RaHFRaj_duwF",
        "colab": {
          "base_uri": "https://localhost:8080/",
          "height": 350
        },
        "outputId": "3a425df3-b7a9-4ac6-92c2-2bc867c1268a"
      },
      "source": [
        "fig, axes = plt.subplots(1, 5, sharex=True, figsize=(25,5))\n",
        "\n",
        "sns.barplot(ax = axes[0], x = \"Platform\", y = \"Sales_total\", data = platform_popular_2006)\n",
        "sns.barplot(ax = axes[1], x = \"Platform\", y = \"Sales_total\", data = platform_popular_2007)\n",
        "sns.barplot(ax = axes[2], x = \"Platform\", y = \"Sales_total\", data = platform_popular_2008)\n",
        "sns.barplot(ax = axes[3], x = \"Platform\", y = \"Sales_total\", data = platform_popular_2009)\n",
        "sns.barplot(ax = axes[4], x = \"Platform\", y = \"Sales_total\", data = platform_popular_2010)\n",
        "axes[0].set_title(\"2006\")\n",
        "axes[1].set_title(\"2007\")\n",
        "axes[2].set_title(\"2008\")\n",
        "axes[3].set_title(\"2009\")\n",
        "axes[4].set_title(\"2010\");\n"
      ],
      "execution_count": 39,
      "outputs": [
        {
          "output_type": "display_data",
          "data": {
            "image/png": "[encoded data removed]",
            "text/plain": [
              "<Figure size 1800x360 with 5 Axes>"
            ]
          },
          "metadata": {
            "tags": [],
            "needs_background": "light"
          }
        }
      ]
    },
    {
      "cell_type": "code",
      "metadata": {
        "id": "i7evUFLVzFHG",
        "colab": {
          "base_uri": "https://localhost:8080/",
          "height": 350
        },
        "outputId": "5689ad58-a83f-4f67-f25e-abbb604b40e0"
      },
      "source": [
        "fig, axes = plt.subplots(1, 5, sharex=True, figsize=(25,5))\n",
        "\n",
        "sns.barplot(ax = axes[0], x = \"Platform\", y = \"Sales_total\", data = platform_popular_2011)\n",
        "sns.barplot(ax = axes[1], x = \"Platform\", y = \"Sales_total\", data = platform_popular_2012)\n",
        "sns.barplot(ax = axes[2], x = \"Platform\", y = \"Sales_total\", data = platform_popular_2013)\n",
        "sns.barplot(ax = axes[3], x = \"Platform\", y = \"Sales_total\", data = platform_popular_2014)\n",
        "sns.barplot(ax = axes[4], x = \"Platform\", y = \"Sales_total\", data = platform_popular_2015)\n",
        "axes[0].set_title(\"2011\")\n",
        "axes[1].set_title(\"2012\")\n",
        "axes[2].set_title(\"2013\")\n",
        "axes[3].set_title(\"2014\")\n",
        "axes[4].set_title(\"2015\");\n"
      ],
      "execution_count": 40,
      "outputs": [
        {
          "output_type": "display_data",
          "data": {
            "image/png": "[encoded data removed]",
            "text/plain": [
              "<Figure size 1800x360 with 5 Axes>"
            ]
          },
          "metadata": {
            "tags": [],
            "needs_background": "light"
          }
        }
      ]
    },
    {
      "cell_type": "code",
      "metadata": {
        "id": "YRDbyWfn2lft",
        "colab": {
          "base_uri": "https://localhost:8080/",
          "height": 336
        },
        "outputId": "43a7d00b-22a1-4fca-973b-584769ab447e"
      },
      "source": [
        "fig, axes = plt.subplots(1, 5, sharex=True, figsize=(60,10))\n",
        "\n",
        "sns.barplot(ax = axes[0], x = \"Genre\", y = 0, data = genre_popular_2011)\n",
        "sns.barplot(ax = axes[1], x = \"Genre\", y = 0, data = genre_popular_2012)\n",
        "sns.barplot(ax = axes[2], x = \"Genre\", y = 0, data = genre_popular_2013)\n",
        "sns.barplot(ax = axes[3], x = \"Genre\", y = 0, data = genre_popular_2014)\n",
        "sns.barplot(ax = axes[4], x = \"Genre\", y = 0, data = genre_popular_2015)\n",
        "axes[0].set_title(\"2011\")\n",
        "axes[1].set_title(\"2012\")\n",
        "axes[2].set_title(\"2013\")\n",
        "axes[3].set_title(\"2014\")\n",
        "axes[4].set_title(\"2015\");"
      ],
      "execution_count": 41,
      "outputs": [
        {
          "output_type": "display_data",
          "data": {
            "image/png": "[encoded data removed]",
            "text/plain": [
              "<Figure size 4320x720 with 5 Axes>"
            ]
          },
          "metadata": {
            "tags": [],
            "needs_background": "light"
          }
        }
      ]
    },
    {
      "cell_type": "code",
      "metadata": {
        "id": "ps8nkUXZesQV",
        "colab": {
          "base_uri": "https://localhost:8080/",
          "height": 80
        },
        "outputId": "a2e9ba89-2d85-4848-b0b8-4ab5fa1c1f1d"
      },
      "source": [
        "######연도별 게임의 트렌드\n",
        "# 해당연도에 어떤 플랫폼 기반, 장르의 게임들이 많이 출시되었는가.\n",
        "# pd.concat([platform_popular_1996.head(3), platform_popular_1997.head(3), platform_popular_1998.head(3), platform_popular_1999.head(3), platform_popular_2000.head(3),\n",
        "#            platform_popular_2001.head(3), platform_popular_2002.head(3), platform_popular_2003.head(3), platform_popular_2004.head(3), platform_popular_2005.head(3),\n",
        "#            platform_popular_2006.head(3), platform_popular_2007.head(3), platform_popular_2008.head(3), platform_popular_2009.head(3), platform_popular_2010.head(3),\n",
        "#            platform_popular_2011.head(3), platform_popular_2012.head(3), platform_popular_2013.head(3), platform_popular_2014.head(3), platform_popular_2015.head(3),\n",
        "#            platform_popular_2016.head(3), platform_popular_2017.head(3), platform_popular_2018.head(3), platform_popular_2019.head(3), platform_popular_2020.head(3)], axis = 1)\n",
        "# pd.concat([platform_popular_1996['Platform'].head(3), platform_popular_1997['Platform'].head(3)], axis=0)\n",
        "T_1996 = pd.DataFrame(platform_popular_1996['Platform'].head(3)).T\n",
        "T_1996.columns = [0, 1, 2]\n",
        "T_1996.index = ['1996']\n",
        "T_1996"
      ],
      "execution_count": 42,
      "outputs": [
        {
          "output_type": "execute_result",
          "data": {
            "text/html": [
              "<div>\n",
              "<style scoped>\n",
              "    .dataframe tbody tr th:only-of-type {\n",
              "        vertical-align: middle;\n",
              "    }\n",
              "\n",
              "    .dataframe tbody tr th {\n",
              "        vertical-align: top;\n",
              "    }\n",
              "\n",
              "    .dataframe thead th {\n",
              "        text-align: right;\n",
              "    }\n",
              "</style>\n",
              "<table border=\"1\" class=\"dataframe\">\n",
              "  <thead>\n",
              "    <tr style=\"text-align: right;\">\n",
              "      <th></th>\n",
              "      <th>0</th>\n",
              "      <th>1</th>\n",
              "      <th>2</th>\n",
              "    </tr>\n",
              "  </thead>\n",
              "  <tbody>\n",
              "    <tr>\n",
              "      <th>1996</th>\n",
              "      <td>PS</td>\n",
              "      <td>SAT</td>\n",
              "      <td>SNES</td>\n",
              "    </tr>\n",
              "  </tbody>\n",
              "</table>\n",
              "</div>"
            ],
            "text/plain": [
              "       0    1     2\n",
              "1996  PS  SAT  SNES"
            ]
          },
          "metadata": {
            "tags": []
          },
          "execution_count": 42
        }
      ]
    },
    {
      "cell_type": "markdown",
      "metadata": {
        "id": "EtlLUJaYzLoy"
      },
      "source": [
        "**3. 출고량이 높은 게임에 대한 분석 및 시각화 프로세스**"
      ]
    },
    {
      "cell_type": "code",
      "metadata": {
        "id": "zzTc_yij0JSL",
        "colab": {
          "base_uri": "https://localhost:8080/",
          "height": 419
        },
        "outputId": "814102f7-449d-41c5-a9cc-9973e8ba3113"
      },
      "source": [
        "df_ranking = df.sort_values(by='Sales_total' ,ascending=False)\n",
        "df_100 = df_ranking.head(100)\n",
        "df_50 = df_ranking.head(50)\n",
        "df_30 = df_ranking.head(30)\n",
        "df_10 = df_ranking.head(10)\n",
        "df_100"
      ],
      "execution_count": 43,
      "outputs": [
        {
          "output_type": "execute_result",
          "data": {
            "text/html": [
              "<div>\n",
              "<style scoped>\n",
              "    .dataframe tbody tr th:only-of-type {\n",
              "        vertical-align: middle;\n",
              "    }\n",
              "\n",
              "    .dataframe tbody tr th {\n",
              "        vertical-align: top;\n",
              "    }\n",
              "\n",
              "    .dataframe thead th {\n",
              "        text-align: right;\n",
              "    }\n",
              "</style>\n",
              "<table border=\"1\" class=\"dataframe\">\n",
              "  <thead>\n",
              "    <tr style=\"text-align: right;\">\n",
              "      <th></th>\n",
              "      <th>Name</th>\n",
              "      <th>Platform</th>\n",
              "      <th>Year</th>\n",
              "      <th>Genre</th>\n",
              "      <th>Publisher</th>\n",
              "      <th>NA_Sales</th>\n",
              "      <th>EU_Sales</th>\n",
              "      <th>JP_Sales</th>\n",
              "      <th>Other_Sales</th>\n",
              "      <th>Sales_total</th>\n",
              "    </tr>\n",
              "  </thead>\n",
              "  <tbody>\n",
              "    <tr>\n",
              "      <th>2908</th>\n",
              "      <td>Wii Sports</td>\n",
              "      <td>Wii</td>\n",
              "      <td>2006.0</td>\n",
              "      <td>Sports</td>\n",
              "      <td>Nintendo</td>\n",
              "      <td>41.49</td>\n",
              "      <td>29.02</td>\n",
              "      <td>3.77</td>\n",
              "      <td>8.46</td>\n",
              "      <td>82.74</td>\n",
              "    </tr>\n",
              "    <tr>\n",
              "      <th>4199</th>\n",
              "      <td>Super Mario Bros.</td>\n",
              "      <td>NES</td>\n",
              "      <td>1985.0</td>\n",
              "      <td>Platform</td>\n",
              "      <td>Nintendo</td>\n",
              "      <td>29.08</td>\n",
              "      <td>3.58</td>\n",
              "      <td>6.81</td>\n",
              "      <td>0.77</td>\n",
              "      <td>40.24</td>\n",
              "    </tr>\n",
              "    <tr>\n",
              "      <th>12579</th>\n",
              "      <td>Mario Kart Wii</td>\n",
              "      <td>Wii</td>\n",
              "      <td>2008.0</td>\n",
              "      <td>Racing</td>\n",
              "      <td>Nintendo</td>\n",
              "      <td>15.85</td>\n",
              "      <td>12.88</td>\n",
              "      <td>3.79</td>\n",
              "      <td>3.31</td>\n",
              "      <td>35.83</td>\n",
              "    </tr>\n",
              "    <tr>\n",
              "      <th>3352</th>\n",
              "      <td>Wii Sports Resort</td>\n",
              "      <td>Wii</td>\n",
              "      <td>2009.0</td>\n",
              "      <td>Sports</td>\n",
              "      <td>Nintendo</td>\n",
              "      <td>15.75</td>\n",
              "      <td>11.01</td>\n",
              "      <td>3.28</td>\n",
              "      <td>2.96</td>\n",
              "      <td>33.00</td>\n",
              "    </tr>\n",
              "    <tr>\n",
              "      <th>7829</th>\n",
              "      <td>Pokemon Red/Pokemon Blue</td>\n",
              "      <td>GB</td>\n",
              "      <td>1996.0</td>\n",
              "      <td>Role-Playing</td>\n",
              "      <td>Nintendo</td>\n",
              "      <td>11.27</td>\n",
              "      <td>8.89</td>\n",
              "      <td>10.22</td>\n",
              "      <td>1.00</td>\n",
              "      <td>31.38</td>\n",
              "    </tr>\n",
              "    <tr>\n",
              "      <th>...</th>\n",
              "      <td>...</td>\n",
              "      <td>...</td>\n",
              "      <td>...</td>\n",
              "      <td>...</td>\n",
              "      <td>...</td>\n",
              "      <td>...</td>\n",
              "      <td>...</td>\n",
              "      <td>...</td>\n",
              "      <td>...</td>\n",
              "      <td>...</td>\n",
              "    </tr>\n",
              "    <tr>\n",
              "      <th>1098</th>\n",
              "      <td>Crash Bandicoot 2: Cortex Strikes Back</td>\n",
              "      <td>PS</td>\n",
              "      <td>1997.0</td>\n",
              "      <td>Platform</td>\n",
              "      <td>Sony Computer Entertainment</td>\n",
              "      <td>3.78</td>\n",
              "      <td>2.17</td>\n",
              "      <td>1.31</td>\n",
              "      <td>0.31</td>\n",
              "      <td>7.57</td>\n",
              "    </tr>\n",
              "    <tr>\n",
              "      <th>7494</th>\n",
              "      <td>Super Mario Bros. 2</td>\n",
              "      <td>NES</td>\n",
              "      <td>1988.0</td>\n",
              "      <td>Platform</td>\n",
              "      <td>Nintendo</td>\n",
              "      <td>5.39</td>\n",
              "      <td>1.18</td>\n",
              "      <td>0.70</td>\n",
              "      <td>0.19</td>\n",
              "      <td>7.46</td>\n",
              "    </tr>\n",
              "    <tr>\n",
              "      <th>12850</th>\n",
              "      <td>Super Smash Bros. for Wii U and 3DS</td>\n",
              "      <td>3DS</td>\n",
              "      <td>2014.0</td>\n",
              "      <td>Fighting</td>\n",
              "      <td>Nintendo</td>\n",
              "      <td>3.24</td>\n",
              "      <td>1.35</td>\n",
              "      <td>2.42</td>\n",
              "      <td>0.43</td>\n",
              "      <td>7.44</td>\n",
              "    </tr>\n",
              "    <tr>\n",
              "      <th>10937</th>\n",
              "      <td>Call of Duty: World at War</td>\n",
              "      <td>X360</td>\n",
              "      <td>2008.0</td>\n",
              "      <td>Shooter</td>\n",
              "      <td>Activision</td>\n",
              "      <td>4.79</td>\n",
              "      <td>1.90</td>\n",
              "      <td>0.00</td>\n",
              "      <td>0.69</td>\n",
              "      <td>7.38</td>\n",
              "    </tr>\n",
              "    <tr>\n",
              "      <th>8010</th>\n",
              "      <td>Battlefield 3</td>\n",
              "      <td>X360</td>\n",
              "      <td>2011.0</td>\n",
              "      <td>Shooter</td>\n",
              "      <td>Electronic Arts</td>\n",
              "      <td>4.46</td>\n",
              "      <td>2.13</td>\n",
              "      <td>0.06</td>\n",
              "      <td>0.69</td>\n",
              "      <td>7.34</td>\n",
              "    </tr>\n",
              "  </tbody>\n",
              "</table>\n",
              "<p>100 rows × 10 columns</p>\n",
              "</div>"
            ],
            "text/plain": [
              "                                         Name  ... Sales_total\n",
              "2908                               Wii Sports  ...       82.74\n",
              "4199                        Super Mario Bros.  ...       40.24\n",
              "12579                          Mario Kart Wii  ...       35.83\n",
              "3352                        Wii Sports Resort  ...       33.00\n",
              "7829                 Pokemon Red/Pokemon Blue  ...       31.38\n",
              "...                                       ...  ...         ...\n",
              "1098   Crash Bandicoot 2: Cortex Strikes Back  ...        7.57\n",
              "7494                      Super Mario Bros. 2  ...        7.46\n",
              "12850     Super Smash Bros. for Wii U and 3DS  ...        7.44\n",
              "10937              Call of Duty: World at War  ...        7.38\n",
              "8010                            Battlefield 3  ...        7.34\n",
              "\n",
              "[100 rows x 10 columns]"
            ]
          },
          "metadata": {
            "tags": []
          },
          "execution_count": 43
        }
      ]
    },
    {
      "cell_type": "code",
      "metadata": {
        "id": "lwcSQJxe0gky"
      },
      "source": [
        "df_100_genre = pd.DataFrame(df_100['Sales_total'].groupby(df_100['Genre']).size()).sort_values(by='Sales_total' ,ascending=False)\n",
        "df_50_genre = pd.DataFrame(df_50['Sales_total'].groupby(df_50['Genre']).size()).sort_values(by='Sales_total' ,ascending=False)\n",
        "df_30_genre = pd.DataFrame(df_30['Sales_total'].groupby(df_30['Genre']).size()).sort_values(by='Sales_total' ,ascending=False)\n",
        "df_10_genre = pd.DataFrame(df_10['Sales_total'].groupby(df_10['Genre']).size()).sort_values(by='Sales_total' ,ascending=False)"
      ],
      "execution_count": 44,
      "outputs": []
    },
    {
      "cell_type": "code",
      "metadata": {
        "id": "9z7Y84qk7wRQ"
      },
      "source": [
        "df_100_platform = pd.DataFrame(df_100['Sales_total'].groupby(df_100['Platform']).size()).sort_values(by='Sales_total' ,ascending=False)\n",
        "df_50_platform = pd.DataFrame(df_50['Sales_total'].groupby(df_50['Platform']).size()).sort_values(by='Sales_total' ,ascending=False)\n",
        "df_30_platform = pd.DataFrame(df_30['Sales_total'].groupby(df_30['Platform']).size()).sort_values(by='Sales_total' ,ascending=False)\n",
        "df_10_platform = pd.DataFrame(df_10['Sales_total'].groupby(df_10['Platform']).size()).sort_values(by='Sales_total' ,ascending=False)"
      ],
      "execution_count": 45,
      "outputs": []
    },
    {
      "cell_type": "code",
      "metadata": {
        "id": "OYQQxwaJ8sS_"
      },
      "source": [
        "df_100_genre = df_100_genre.reset_index()\n",
        "df_100_genre.rename(columns={'Sales_total':'num'}, inplace=True)\n",
        "df_50_genre = df_50_genre.reset_index()\n",
        "df_50_genre.rename(columns={'Sales_total':'num'}, inplace=True)\n",
        "df_30_genre = df_30_genre.reset_index()\n",
        "df_30_genre.rename(columns={'Sales_total':'num'}, inplace=True)\n",
        "df_10_genre = df_10_genre.reset_index()\n",
        "df_10_genre.rename(columns={'Sales_total':'num'}, inplace=True)\n",
        "\n",
        "df_100_platform = df_100_platform.reset_index()\n",
        "df_100_platform.rename(columns={'Sales_total':'num'}, inplace=True)\n",
        "df_50_platform = df_50_platform.reset_index()\n",
        "df_50_platform.rename(columns={'Sales_total':'num'}, inplace=True)\n",
        "df_30_platform = df_30_platform.reset_index()\n",
        "df_30_platform.rename(columns={'Sales_total':'num'}, inplace=True)\n",
        "df_10_platform = df_10_platform.reset_index()\n",
        "df_10_platform.rename(columns={'Sales_total':'num'}, inplace=True)\n"
      ],
      "execution_count": 46,
      "outputs": []
    },
    {
      "cell_type": "code",
      "metadata": {
        "id": "-LHc9imr-jBw"
      },
      "source": [
        "fig, axes = plt.subplots(1, 4, sharex=True, figsize=(25,5))\n",
        "\n",
        "sns.barplot(ax = axes[0], x = \"Genre\", y = \"num\" , data = df_100_genre)\n",
        "sns.barplot(ax = axes[1], x = \"Genre\", y = \"num\" , data = df_50_genre)\n",
        "sns.barplot(ax = axes[2], x = \"Genre\", y = \"num\" , data = df_30_genre)\n",
        "sns.barplot(ax = axes[3], x = \"Genre\", y = \"num\" , data = df_10_genre);\n",
        "axes[0].set_title(\"Top 100\")\n",
        "axes[1].set_title(\"Top 50\")\n",
        "axes[2].set_title(\"Top 30\")\n",
        "axes[3].set_title(\"Top 10\");"
      ],
      "execution_count": null,
      "outputs": []
    },
    {
      "cell_type": "code",
      "metadata": {
        "colab": {
          "base_uri": "https://localhost:8080/",
          "height": 619
        },
        "id": "yOdvr36FpqkM",
        "outputId": "3c87856a-7906-4dbb-a9ba-57268e4a15f6"
      },
      "source": [
        "plt.figure(figsize=(10,10))\n",
        "sns.barplot(x = \"Genre\", y = \"num\" , data = df_100_genre)\n",
        "plt.title('Top100_genre', fontsize=10)\n",
        "plt.show();"
      ],
      "execution_count": 56,
      "outputs": [
        {
          "output_type": "display_data",
          "data": {
            "image/png": "[encoded data removed]",
            "text/plain": [
              "<Figure size 720x720 with 1 Axes>"
            ]
          },
          "metadata": {
            "tags": [],
            "needs_background": "light"
          }
        }
      ]
    },
    {
      "cell_type": "code",
      "metadata": {
        "colab": {
          "base_uri": "https://localhost:8080/",
          "height": 619
        },
        "id": "4nmGh_ngp_IU",
        "outputId": "366c6352-999f-4709-856e-5312c477a936"
      },
      "source": [
        "plt.figure(figsize=(10,10))\n",
        "sns.barplot(x = \"Genre\", y = \"num\" , data = df_50_genre)\n",
        "plt.title('Top50_genre', fontsize=10)\n",
        "plt.show();"
      ],
      "execution_count": 57,
      "outputs": [
        {
          "output_type": "display_data",
          "data": {
            "image/png": "[encoded data removed]",
            "text/plain": [
              "<Figure size 720x720 with 1 Axes>"
            ]
          },
          "metadata": {
            "tags": [],
            "needs_background": "light"
          }
        }
      ]
    },
    {
      "cell_type": "code",
      "metadata": {
        "colab": {
          "base_uri": "https://localhost:8080/",
          "height": 619
        },
        "id": "kNmjq2WyqDP8",
        "outputId": "48f8b4d3-1245-4046-8f31-b77c2b06f2de"
      },
      "source": [
        "plt.figure(figsize=(10,10))\n",
        "sns.barplot(x = \"Genre\", y = \"num\" , data = df_30_genre)\n",
        "plt.title('Top30_genre', fontsize=10)\n",
        "plt.show();"
      ],
      "execution_count": 58,
      "outputs": [
        {
          "output_type": "display_data",
          "data": {
            "image/png": "[encoded data removed]",
            "text/plain": [
              "<Figure size 720x720 with 1 Axes>"
            ]
          },
          "metadata": {
            "tags": [],
            "needs_background": "light"
          }
        }
      ]
    },
    {
      "cell_type": "code",
      "metadata": {
        "colab": {
          "base_uri": "https://localhost:8080/",
          "height": 619
        },
        "id": "X2j8c6kpqFul",
        "outputId": "45396ff0-703c-4bce-d13b-71743ac7abcd"
      },
      "source": [
        "plt.figure(figsize=(10,10))\n",
        "sns.barplot(x = \"Genre\", y = \"num\" , data = df_10_genre)\n",
        "plt.title('Top10_genre', fontsize=10)\n",
        "plt.show();"
      ],
      "execution_count": 59,
      "outputs": [
        {
          "output_type": "display_data",
          "data": {
            "image/png": "[encoded data removed]",
            "text/plain": [
              "<Figure size 720x720 with 1 Axes>"
            ]
          },
          "metadata": {
            "tags": [],
            "needs_background": "light"
          }
        }
      ]
    },
    {
      "cell_type": "code",
      "metadata": {
        "colab": {
          "base_uri": "https://localhost:8080/",
          "height": 266
        },
        "id": "FPzLCc25pe8y",
        "outputId": "850625c7-1c7d-4f38-91a3-df36a1477f5c"
      },
      "source": [
        "df_10_genre"
      ],
      "execution_count": 54,
      "outputs": [
        {
          "output_type": "execute_result",
          "data": {
            "text/html": [
              "<div>\n",
              "<style scoped>\n",
              "    .dataframe tbody tr th:only-of-type {\n",
              "        vertical-align: middle;\n",
              "    }\n",
              "\n",
              "    .dataframe tbody tr th {\n",
              "        vertical-align: top;\n",
              "    }\n",
              "\n",
              "    .dataframe thead th {\n",
              "        text-align: right;\n",
              "    }\n",
              "</style>\n",
              "<table border=\"1\" class=\"dataframe\">\n",
              "  <thead>\n",
              "    <tr style=\"text-align: right;\">\n",
              "      <th></th>\n",
              "      <th>Genre</th>\n",
              "      <th>num</th>\n",
              "    </tr>\n",
              "  </thead>\n",
              "  <tbody>\n",
              "    <tr>\n",
              "      <th>0</th>\n",
              "      <td>Platform</td>\n",
              "      <td>3</td>\n",
              "    </tr>\n",
              "    <tr>\n",
              "      <th>1</th>\n",
              "      <td>Sports</td>\n",
              "      <td>2</td>\n",
              "    </tr>\n",
              "    <tr>\n",
              "      <th>2</th>\n",
              "      <td>Misc</td>\n",
              "      <td>1</td>\n",
              "    </tr>\n",
              "    <tr>\n",
              "      <th>3</th>\n",
              "      <td>Puzzle</td>\n",
              "      <td>1</td>\n",
              "    </tr>\n",
              "    <tr>\n",
              "      <th>4</th>\n",
              "      <td>Racing</td>\n",
              "      <td>1</td>\n",
              "    </tr>\n",
              "    <tr>\n",
              "      <th>5</th>\n",
              "      <td>Role-Playing</td>\n",
              "      <td>1</td>\n",
              "    </tr>\n",
              "    <tr>\n",
              "      <th>6</th>\n",
              "      <td>Shooter</td>\n",
              "      <td>1</td>\n",
              "    </tr>\n",
              "  </tbody>\n",
              "</table>\n",
              "</div>"
            ],
            "text/plain": [
              "          Genre  num\n",
              "0      Platform    3\n",
              "1        Sports    2\n",
              "2          Misc    1\n",
              "3        Puzzle    1\n",
              "4        Racing    1\n",
              "5  Role-Playing    1\n",
              "6       Shooter    1"
            ]
          },
          "metadata": {
            "tags": []
          },
          "execution_count": 54
        }
      ]
    },
    {
      "cell_type": "code",
      "metadata": {
        "id": "f6BpBhZ58wA-",
        "colab": {
          "base_uri": "https://localhost:8080/",
          "height": 350
        },
        "outputId": "25220278-ca6a-4a39-cad4-8da6f28798a3"
      },
      "source": [
        "fig, axes = plt.subplots(1, 4, sharex=True, figsize=(25,5))\n",
        "\n",
        "sns.barplot(ax = axes[0], x = \"Platform\", y = \"num\" , data = df_100_platform)\n",
        "sns.barplot(ax = axes[1], x = \"Platform\", y = \"num\" , data = df_50_platform)\n",
        "sns.barplot(ax = axes[2], x = \"Platform\", y = \"num\" , data = df_30_platform)\n",
        "sns.barplot(ax = axes[3], x = \"Platform\", y = \"num\" , data = df_10_platform);\n",
        "axes[0].set_title(\"Top 100\")\n",
        "axes[1].set_title(\"Top 50\")\n",
        "axes[2].set_title(\"Top 30\")\n",
        "axes[3].set_title(\"Top 10\");"
      ],
      "execution_count": 48,
      "outputs": [
        {
          "output_type": "display_data",
          "data": {
            "image/png": "[encoded data removed]",
            "text/plain": [
              "<Figure size 1800x360 with 4 Axes>"
            ]
          },
          "metadata": {
            "tags": [],
            "needs_background": "light"
          }
        }
      ]
    },
    {
      "cell_type": "markdown",
      "metadata": {
        "id": "J6dLyOpABSY8"
      },
      "source": [
        "**판매량이 높은 순위부터 100위, 50위, 30위, 10위로 나눠 genre와 platform에 대한 데이터를 얻은 결과**\n",
        "\n",
        "\n",
        "- Genre는 Platform, Sports, Misc, Puzzle, Racing, Role-playing, Shooter\n",
        "- Platform은 Wii, GB, NES, DS 순으로 높은 비율을 나타낸다.\n",
        "\n",
        "\n",
        "\n"
      ]
    },
    {
      "cell_type": "code",
      "metadata": {
        "id": "2oonduOaRWhx"
      },
      "source": [
        "df_100_publisher = pd.DataFrame(df_100['Sales_total'].groupby(df_100['Publisher']).size()).sort_values(by='Sales_total' ,ascending=False)"
      ],
      "execution_count": 49,
      "outputs": []
    },
    {
      "cell_type": "code",
      "metadata": {
        "id": "g2xJ143qTV9I"
      },
      "source": [
        "genre_popular_1996 = genre_popular_1996.reset_index()\n",
        "genre_popular_1996 = genre_popular_1996.drop(['index'], axis = 1)"
      ],
      "execution_count": 50,
      "outputs": []
    },
    {
      "cell_type": "code",
      "metadata": {
        "id": "xB1BxxhDU7et",
        "colab": {
          "base_uri": "https://localhost:8080/",
          "height": 204
        },
        "outputId": "016a11e4-b3ae-48da-b9a8-5cd3a25a7e46"
      },
      "source": [
        "genre_popular_1996.head(5)"
      ],
      "execution_count": 51,
      "outputs": [
        {
          "output_type": "execute_result",
          "data": {
            "text/html": [
              "<div>\n",
              "<style scoped>\n",
              "    .dataframe tbody tr th:only-of-type {\n",
              "        vertical-align: middle;\n",
              "    }\n",
              "\n",
              "    .dataframe tbody tr th {\n",
              "        vertical-align: top;\n",
              "    }\n",
              "\n",
              "    .dataframe thead th {\n",
              "        text-align: right;\n",
              "    }\n",
              "</style>\n",
              "<table border=\"1\" class=\"dataframe\">\n",
              "  <thead>\n",
              "    <tr style=\"text-align: right;\">\n",
              "      <th></th>\n",
              "      <th>Genre</th>\n",
              "      <th>0</th>\n",
              "    </tr>\n",
              "  </thead>\n",
              "  <tbody>\n",
              "    <tr>\n",
              "      <th>0</th>\n",
              "      <td>Action</td>\n",
              "      <td>3305</td>\n",
              "    </tr>\n",
              "    <tr>\n",
              "      <th>1</th>\n",
              "      <td>Sports</td>\n",
              "      <td>2341</td>\n",
              "    </tr>\n",
              "    <tr>\n",
              "      <th>2</th>\n",
              "      <td>Misc</td>\n",
              "      <td>1734</td>\n",
              "    </tr>\n",
              "    <tr>\n",
              "      <th>3</th>\n",
              "      <td>Role-Playing</td>\n",
              "      <td>1483</td>\n",
              "    </tr>\n",
              "    <tr>\n",
              "      <th>4</th>\n",
              "      <td>Shooter</td>\n",
              "      <td>1308</td>\n",
              "    </tr>\n",
              "  </tbody>\n",
              "</table>\n",
              "</div>"
            ],
            "text/plain": [
              "          Genre     0\n",
              "0        Action  3305\n",
              "1        Sports  2341\n",
              "2          Misc  1734\n",
              "3  Role-Playing  1483\n",
              "4       Shooter  1308"
            ]
          },
          "metadata": {
            "tags": []
          },
          "execution_count": 51
        }
      ]
    },
    {
      "cell_type": "code",
      "metadata": {
        "id": "GybG7IyM6eXT",
        "colab": {
          "base_uri": "https://localhost:8080/",
          "height": 390
        },
        "outputId": "53e8fcbf-3b31-428e-9198-d4bcbe473ff2"
      },
      "source": [
        "#df.info()\n",
        "df_100_genre"
      ],
      "execution_count": 52,
      "outputs": [
        {
          "output_type": "execute_result",
          "data": {
            "text/html": [
              "<div>\n",
              "<style scoped>\n",
              "    .dataframe tbody tr th:only-of-type {\n",
              "        vertical-align: middle;\n",
              "    }\n",
              "\n",
              "    .dataframe tbody tr th {\n",
              "        vertical-align: top;\n",
              "    }\n",
              "\n",
              "    .dataframe thead th {\n",
              "        text-align: right;\n",
              "    }\n",
              "</style>\n",
              "<table border=\"1\" class=\"dataframe\">\n",
              "  <thead>\n",
              "    <tr style=\"text-align: right;\">\n",
              "      <th></th>\n",
              "      <th>Genre</th>\n",
              "      <th>num</th>\n",
              "    </tr>\n",
              "  </thead>\n",
              "  <tbody>\n",
              "    <tr>\n",
              "      <th>0</th>\n",
              "      <td>Shooter</td>\n",
              "      <td>22</td>\n",
              "    </tr>\n",
              "    <tr>\n",
              "      <th>1</th>\n",
              "      <td>Platform</td>\n",
              "      <td>16</td>\n",
              "    </tr>\n",
              "    <tr>\n",
              "      <th>2</th>\n",
              "      <td>Role-Playing</td>\n",
              "      <td>14</td>\n",
              "    </tr>\n",
              "    <tr>\n",
              "      <th>3</th>\n",
              "      <td>Action</td>\n",
              "      <td>12</td>\n",
              "    </tr>\n",
              "    <tr>\n",
              "      <th>4</th>\n",
              "      <td>Racing</td>\n",
              "      <td>10</td>\n",
              "    </tr>\n",
              "    <tr>\n",
              "      <th>5</th>\n",
              "      <td>Misc</td>\n",
              "      <td>8</td>\n",
              "    </tr>\n",
              "    <tr>\n",
              "      <th>6</th>\n",
              "      <td>Sports</td>\n",
              "      <td>6</td>\n",
              "    </tr>\n",
              "    <tr>\n",
              "      <th>7</th>\n",
              "      <td>Simulation</td>\n",
              "      <td>4</td>\n",
              "    </tr>\n",
              "    <tr>\n",
              "      <th>8</th>\n",
              "      <td>Puzzle</td>\n",
              "      <td>3</td>\n",
              "    </tr>\n",
              "    <tr>\n",
              "      <th>9</th>\n",
              "      <td>Fighting</td>\n",
              "      <td>2</td>\n",
              "    </tr>\n",
              "    <tr>\n",
              "      <th>10</th>\n",
              "      <td>Adventure</td>\n",
              "      <td>1</td>\n",
              "    </tr>\n",
              "  </tbody>\n",
              "</table>\n",
              "</div>"
            ],
            "text/plain": [
              "           Genre  num\n",
              "0        Shooter   22\n",
              "1       Platform   16\n",
              "2   Role-Playing   14\n",
              "3         Action   12\n",
              "4         Racing   10\n",
              "5           Misc    8\n",
              "6         Sports    6\n",
              "7     Simulation    4\n",
              "8         Puzzle    3\n",
              "9       Fighting    2\n",
              "10     Adventure    1"
            ]
          },
          "metadata": {
            "tags": []
          },
          "execution_count": 52
        }
      ]
    },
    {
      "cell_type": "code",
      "metadata": {
        "id": "3HxYt6d_7YHs"
      },
      "source": [
        ""
      ],
      "execution_count": 52,
      "outputs": []
    },
    {
      "cell_type": "markdown",
      "metadata": {
        "id": "3L4QEi_WMAbH"
      },
      "source": [
        "**#1 데이터는 0000년도에 출시된 게임의 현재까지의 누적 판매량을 의미한다.**\n",
        "\n",
        "\n",
        "**그러므로 데이터들을 그대로 이용하여 게임이 해당년도에 얼마나 팔렸는지, 어떤 장르가 유행했는지 보는 것은 오류가 있다고 생각한다.**\n",
        "\n",
        "**#2 누적 판매량이므로 누적연도로 나눠 연평균 판매량을 구해 데이터를 비교해보는 것은 어떨까?**\n",
        "\n",
        "**(예를들면 1996년 sales_total/(2021-1996) )**\n",
        "\n",
        "**----> But, 누적판매량이 높다 = 한 순간의 폭발적인 인기일 수도 있지만, 꾸준한 판매량을 의미할 수도 있다.**\n",
        "\n",
        "**그러므로 연평균 판매량을 구하거나, 어떤 연도에 발매가 되었는지를 보기보다는, 유행의 사이클이 있는지, 있다면 지금은 어떤 장르, 플랫폼 유행의 사이클 위에 있는지를 봐야한다.**\n",
        "\n",
        "**근데 이 누적데이터를 가지고 연도별 유행을 알 수 있는가**\n",
        "\n"
      ]
    }
  ]
}